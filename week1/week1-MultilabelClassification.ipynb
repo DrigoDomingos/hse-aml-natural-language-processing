{
  "nbformat": 4,
  "nbformat_minor": 0,
  "metadata": {
    "colab": {
      "name": "week1-MultilabelClassification.ipynb",
      "version": "0.3.2",
      "provenance": []
    },
    "kernelspec": {
      "display_name": "Python 3",
      "language": "python",
      "name": "python3"
    },
    "accelerator": "GPU"
  },
  "cells": [
    {
      "metadata": {
        "id": "EnotHVof26BA",
        "colab_type": "text"
      },
      "cell_type": "markdown",
      "source": [
        "# Predict tags on StackOverflow with linear models"
      ]
    },
    {
      "metadata": {
        "id": "ktG2vM2a26BC",
        "colab_type": "text"
      },
      "cell_type": "markdown",
      "source": [
        "In this assignment you will learn how to predict tags for posts from [StackOverflow](https://stackoverflow.com). To solve this task you will use multilabel classification approach.\n",
        "\n",
        "### Libraries\n",
        "\n",
        "In this task you will need the following libraries:\n",
        "- [Numpy](http://www.numpy.org) — a package for scientific computing.\n",
        "- [Pandas](https://pandas.pydata.org) — a library providing high-performance, easy-to-use data structures and data analysis tools for the Python\n",
        "- [scikit-learn](http://scikit-learn.org/stable/index.html) — a tool for data mining and data analysis.\n",
        "- [NLTK](http://www.nltk.org) — a platform to work with natural language."
      ]
    },
    {
      "metadata": {
        "id": "FZto_yZC26BE",
        "colab_type": "text"
      },
      "cell_type": "markdown",
      "source": [
        "### Data\n",
        "\n",
        "The following cell will download all data required for this assignment into the folder `week1/data`."
      ]
    },
    {
      "metadata": {
        "id": "h7_FFDAo3DrP",
        "colab_type": "code",
        "colab": {
          "base_uri": "https://localhost:8080/",
          "height": 50
        },
        "outputId": "32bf7009-da06-4dd2-b489-e182ba21a229"
      },
      "cell_type": "code",
      "source": [
        "! wget https://raw.githubusercontent.com/hse-aml/natural-language-processing/master/setup_google_colab.py -O setup_google_colab.py\n",
        "import setup_google_colab\n",
        "setup_google_colab.setup_week1()  # change to the week you're working on"
      ],
      "execution_count": 10,
      "outputs": [
        {
          "output_type": "stream",
          "text": [
            "\n",
            "Redirecting output to ‘wget-log.1’.\n"
          ],
          "name": "stdout"
        }
      ]
    },
    {
      "metadata": {
        "id": "2OxUd_d226BG",
        "colab_type": "code",
        "colab": {
          "base_uri": "https://localhost:8080/",
          "height": 84
        },
        "outputId": "d7215d33-174a-4d86-bf42-c78096bec154"
      },
      "cell_type": "code",
      "source": [
        "import sys\n",
        "sys.path.append(\"..\")\n",
        "from common.download_utils import download_week1_resources\n",
        "\n",
        "download_week1_resources()"
      ],
      "execution_count": 11,
      "outputs": [
        {
          "output_type": "stream",
          "text": [
            "File data/train.tsv is already downloaded.\n",
            "File data/validation.tsv is already downloaded.\n",
            "File data/test.tsv is already downloaded.\n",
            "File data/text_prepare_tests.tsv is already downloaded.\n"
          ],
          "name": "stdout"
        }
      ]
    },
    {
      "metadata": {
        "id": "-JWKF2KX26BO",
        "colab_type": "text"
      },
      "cell_type": "markdown",
      "source": [
        "### Grading\n",
        "We will create a grader instance below and use it to collect your answers. Note that these outputs will be stored locally inside grader and will be uploaded to platform only after running submitting function in the last part of this assignment. If you want to make partial submission, you can run that cell any time you want."
      ]
    },
    {
      "metadata": {
        "id": "fKhfu4ek26BQ",
        "colab_type": "code",
        "colab": {}
      },
      "cell_type": "code",
      "source": [
        "from grader import Grader"
      ],
      "execution_count": 0,
      "outputs": []
    },
    {
      "metadata": {
        "id": "6Q4xp4gj26BW",
        "colab_type": "code",
        "colab": {}
      },
      "cell_type": "code",
      "source": [
        "grader = Grader()"
      ],
      "execution_count": 0,
      "outputs": []
    },
    {
      "metadata": {
        "id": "zCPzu4QJ26Bc",
        "colab_type": "text"
      },
      "cell_type": "markdown",
      "source": [
        "### Text preprocessing"
      ]
    },
    {
      "metadata": {
        "id": "8zNLaVaD26Be",
        "colab_type": "text"
      },
      "cell_type": "markdown",
      "source": [
        "For this and most of the following assignments you will need to use a list of stop words. It can be downloaded from *nltk*:"
      ]
    },
    {
      "metadata": {
        "id": "0OO-CtO226Bg",
        "colab_type": "code",
        "colab": {
          "base_uri": "https://localhost:8080/",
          "height": 151
        },
        "outputId": "d0f88b63-9fd3-4268-a049-a628a9c4781f"
      },
      "cell_type": "code",
      "source": [
        "import nltk\n",
        "nltk.download('stopwords')\n",
        "from nltk.corpus import stopwords\n",
        "\n",
        "nltk.download('punkt')\n",
        "nltk.download('averaged_perceptron_tagger')\n"
      ],
      "execution_count": 30,
      "outputs": [
        {
          "output_type": "stream",
          "text": [
            "[nltk_data] Downloading package stopwords to /root/nltk_data...\n",
            "[nltk_data]   Package stopwords is already up-to-date!\n",
            "[nltk_data] Downloading package punkt to /root/nltk_data...\n",
            "[nltk_data]   Package punkt is already up-to-date!\n",
            "[nltk_data] Downloading package averaged_perceptron_tagger to\n",
            "[nltk_data]     /root/nltk_data...\n",
            "[nltk_data]   Unzipping taggers/averaged_perceptron_tagger.zip.\n"
          ],
          "name": "stdout"
        },
        {
          "output_type": "execute_result",
          "data": {
            "text/plain": [
              "True"
            ]
          },
          "metadata": {
            "tags": []
          },
          "execution_count": 30
        }
      ]
    },
    {
      "metadata": {
        "id": "Fugpjli226Bq",
        "colab_type": "text"
      },
      "cell_type": "markdown",
      "source": [
        "In this task you will deal with a dataset of post titles from StackOverflow. You are provided a split to 3 sets: *train*, *validation* and *test*. All corpora (except for *test*) contain titles of the posts and corresponding tags (100 tags are available). The *test* set is provided for Coursera's grading and doesn't contain answers. Upload the corpora using *pandas* and look at the data:"
      ]
    },
    {
      "metadata": {
        "id": "OrmKvF-c26Bs",
        "colab_type": "code",
        "colab": {}
      },
      "cell_type": "code",
      "source": [
        "from ast import literal_eval\n",
        "import pandas as pd\n",
        "import numpy as np"
      ],
      "execution_count": 0,
      "outputs": []
    },
    {
      "metadata": {
        "id": "TOKZEDrW26Bx",
        "colab_type": "code",
        "colab": {}
      },
      "cell_type": "code",
      "source": [
        "def read_data(filename):\n",
        "    data = pd.read_csv(filename, sep='\\t')\n",
        "    data['tags'] = data['tags'].apply(literal_eval)\n",
        "    return data"
      ],
      "execution_count": 0,
      "outputs": []
    },
    {
      "metadata": {
        "id": "vBs4Usv326B4",
        "colab_type": "code",
        "colab": {}
      },
      "cell_type": "code",
      "source": [
        "train = read_data('data/train.tsv')\n",
        "validation = read_data('data/validation.tsv')\n",
        "test = pd.read_csv('data/test.tsv', sep='\\t')"
      ],
      "execution_count": 0,
      "outputs": []
    },
    {
      "metadata": {
        "id": "9M5mc4Mg26B_",
        "colab_type": "code",
        "colab": {
          "base_uri": "https://localhost:8080/",
          "height": 195
        },
        "outputId": "f59aa16f-300b-4dbe-d620-fabcc5e50a99"
      },
      "cell_type": "code",
      "source": [
        "train.head()"
      ],
      "execution_count": 17,
      "outputs": [
        {
          "output_type": "execute_result",
          "data": {
            "text/html": [
              "<div>\n",
              "<style scoped>\n",
              "    .dataframe tbody tr th:only-of-type {\n",
              "        vertical-align: middle;\n",
              "    }\n",
              "\n",
              "    .dataframe tbody tr th {\n",
              "        vertical-align: top;\n",
              "    }\n",
              "\n",
              "    .dataframe thead th {\n",
              "        text-align: right;\n",
              "    }\n",
              "</style>\n",
              "<table border=\"1\" class=\"dataframe\">\n",
              "  <thead>\n",
              "    <tr style=\"text-align: right;\">\n",
              "      <th></th>\n",
              "      <th>title</th>\n",
              "      <th>tags</th>\n",
              "    </tr>\n",
              "  </thead>\n",
              "  <tbody>\n",
              "    <tr>\n",
              "      <th>0</th>\n",
              "      <td>How to draw a stacked dotplot in R?</td>\n",
              "      <td>[r]</td>\n",
              "    </tr>\n",
              "    <tr>\n",
              "      <th>1</th>\n",
              "      <td>mysql select all records where a datetime fiel...</td>\n",
              "      <td>[php, mysql]</td>\n",
              "    </tr>\n",
              "    <tr>\n",
              "      <th>2</th>\n",
              "      <td>How to terminate windows phone 8.1 app</td>\n",
              "      <td>[c#]</td>\n",
              "    </tr>\n",
              "    <tr>\n",
              "      <th>3</th>\n",
              "      <td>get current time in a specific country via jquery</td>\n",
              "      <td>[javascript, jquery]</td>\n",
              "    </tr>\n",
              "    <tr>\n",
              "      <th>4</th>\n",
              "      <td>Configuring Tomcat to Use SSL</td>\n",
              "      <td>[java]</td>\n",
              "    </tr>\n",
              "  </tbody>\n",
              "</table>\n",
              "</div>"
            ],
            "text/plain": [
              "                                               title                  tags\n",
              "0                How to draw a stacked dotplot in R?                   [r]\n",
              "1  mysql select all records where a datetime fiel...          [php, mysql]\n",
              "2             How to terminate windows phone 8.1 app                  [c#]\n",
              "3  get current time in a specific country via jquery  [javascript, jquery]\n",
              "4                      Configuring Tomcat to Use SSL                [java]"
            ]
          },
          "metadata": {
            "tags": []
          },
          "execution_count": 17
        }
      ]
    },
    {
      "metadata": {
        "id": "LpWX1uxX6wd0",
        "colab_type": "code",
        "colab": {
          "base_uri": "https://localhost:8080/",
          "height": 195
        },
        "outputId": "47609724-6045-4dbf-a241-38c5146471d8"
      },
      "cell_type": "code",
      "source": [
        "test.head()"
      ],
      "execution_count": 18,
      "outputs": [
        {
          "output_type": "execute_result",
          "data": {
            "text/html": [
              "<div>\n",
              "<style scoped>\n",
              "    .dataframe tbody tr th:only-of-type {\n",
              "        vertical-align: middle;\n",
              "    }\n",
              "\n",
              "    .dataframe tbody tr th {\n",
              "        vertical-align: top;\n",
              "    }\n",
              "\n",
              "    .dataframe thead th {\n",
              "        text-align: right;\n",
              "    }\n",
              "</style>\n",
              "<table border=\"1\" class=\"dataframe\">\n",
              "  <thead>\n",
              "    <tr style=\"text-align: right;\">\n",
              "      <th></th>\n",
              "      <th>title</th>\n",
              "    </tr>\n",
              "  </thead>\n",
              "  <tbody>\n",
              "    <tr>\n",
              "      <th>0</th>\n",
              "      <td>Warning: mysql_query() expects parameter 2 to ...</td>\n",
              "    </tr>\n",
              "    <tr>\n",
              "      <th>1</th>\n",
              "      <td>get click coordinates from &lt;input type='image'...</td>\n",
              "    </tr>\n",
              "    <tr>\n",
              "      <th>2</th>\n",
              "      <td>How to implement cloud storage for media asset...</td>\n",
              "    </tr>\n",
              "    <tr>\n",
              "      <th>3</th>\n",
              "      <td>What is catcomplete in jQuery's autocomplete p...</td>\n",
              "    </tr>\n",
              "    <tr>\n",
              "      <th>4</th>\n",
              "      <td>Error building Android app with Cordova 3.1 CLI</td>\n",
              "    </tr>\n",
              "  </tbody>\n",
              "</table>\n",
              "</div>"
            ],
            "text/plain": [
              "                                               title\n",
              "0  Warning: mysql_query() expects parameter 2 to ...\n",
              "1  get click coordinates from <input type='image'...\n",
              "2  How to implement cloud storage for media asset...\n",
              "3  What is catcomplete in jQuery's autocomplete p...\n",
              "4    Error building Android app with Cordova 3.1 CLI"
            ]
          },
          "metadata": {
            "tags": []
          },
          "execution_count": 18
        }
      ]
    },
    {
      "metadata": {
        "id": "w0BVXVGD26CB",
        "colab_type": "text"
      },
      "cell_type": "markdown",
      "source": [
        "As you can see, *title* column contains titles of the posts and *tags* column contains the tags. It could be noticed that a number of tags for a post is not fixed and could be as many as necessary."
      ]
    },
    {
      "metadata": {
        "id": "ypUkTLPd26CC",
        "colab_type": "text"
      },
      "cell_type": "markdown",
      "source": [
        "For a more comfortable usage, initialize *X_train*, *X_val*, *X_test*, *y_train*, *y_val*."
      ]
    },
    {
      "metadata": {
        "id": "SbX7GtTY26CE",
        "colab_type": "code",
        "colab": {}
      },
      "cell_type": "code",
      "source": [
        "X_train, y_train = train['title'].values, train['tags'].values\n",
        "X_val, y_val = validation['title'].values, validation['tags'].values\n",
        "X_test = test['title'].values"
      ],
      "execution_count": 0,
      "outputs": []
    },
    {
      "metadata": {
        "id": "-RTP8i_E26CG",
        "colab_type": "text"
      },
      "cell_type": "markdown",
      "source": [
        "One of the most known difficulties when working with natural data is that it's unstructured. For example, if you use it \"as is\" and extract tokens just by splitting the titles by whitespaces, you will see that there are many \"weird\" tokens like *3.5?*, *\"Flip*, etc. To prevent the problems, it's usually useful to prepare the data somehow. In this task you'll write a function, which will be also used in the other assignments. \n",
        "\n",
        "**Task 1 (TextPrepare).** Implement the function *text_prepare* following the instructions. After that, run the function *test_test_prepare* to test it on tiny cases and submit it to Coursera."
      ]
    },
    {
      "metadata": {
        "id": "bwj-_WzE26CH",
        "colab_type": "code",
        "colab": {}
      },
      "cell_type": "code",
      "source": [
        "import re"
      ],
      "execution_count": 0,
      "outputs": []
    },
    {
      "metadata": {
        "id": "-RCrZwEO26CL",
        "colab_type": "code",
        "colab": {}
      },
      "cell_type": "code",
      "source": [
        "\n",
        "REPLACE_BY_SPACE_RE = re.compile('[/(){}\\[\\]\\|@,;]')\n",
        "BAD_SYMBOLS_RE = re.compile('[^0-9a-z #+_]')\n",
        "STOPWORDS = set(stopwords.words('english'))\n",
        "\n",
        "def text_prepare(text):\n",
        "    \"\"\"\n",
        "        text: a string\n",
        "        \n",
        "        return: modified initial string\n",
        "    \"\"\"\n",
        "   \n",
        "    text = str(text).lower()                   # lowercase text\n",
        "    text = REPLACE_BY_SPACE_RE.sub(\" \", text)  # replace REPLACE_BY_SPACE_RE symbols by space in text\n",
        "    text = BAD_SYMBOLS_RE.sub(\"\", text)        # delete symbols which are in BAD_SYMBOLS_RE from text        \n",
        "    text = text.replace(str(STOPWORDS),\"\")     # delete stopwords from text    \n",
        "    text = re.sub(\"  \", \" \", text)    \n",
        "\n",
        "    word_tokens = text.split(\" \") \n",
        "\n",
        "    filtered_sentence = [] \n",
        "    for w in word_tokens: \n",
        "        if w not in STOPWORDS: \n",
        "            filtered_sentence.append(w)             \n",
        "    filtered_text= \"\"\n",
        "            \n",
        "    for w in filtered_sentence:\n",
        "      filtered_text = filtered_text + w + \" \"\n",
        "    \n",
        "\n",
        "    text = filtered_text.strip()\n",
        "    \n",
        "    return text"
      ],
      "execution_count": 0,
      "outputs": []
    },
    {
      "metadata": {
        "id": "yS-RSXq026CP",
        "colab_type": "code",
        "colab": {}
      },
      "cell_type": "code",
      "source": [
        "def test_text_prepare():\n",
        "    examples = [\"SQL Server - any equivalent of Excel's CHOOSE function?\",\n",
        "                \"How to free c++ memory vector<int> * arr?\"]\n",
        "    answers = [\"sql server equivalent excels choose function\", \n",
        "               \"free c++ memory vectorint arr\"]\n",
        "    for ex, ans in zip(examples, answers):\n",
        "        if text_prepare(ex) != ans:\n",
        "            return \"Wrong answer for the case: '%s'\" % ex\n",
        "    return 'Basic tests are passed.'"
      ],
      "execution_count": 0,
      "outputs": []
    },
    {
      "metadata": {
        "id": "zcAJ5FzU26CR",
        "colab_type": "code",
        "colab": {
          "base_uri": "https://localhost:8080/",
          "height": 34
        },
        "outputId": "64678ea8-65ee-45e1-ac41-df33504e7169"
      },
      "cell_type": "code",
      "source": [
        "print(test_text_prepare())"
      ],
      "execution_count": 23,
      "outputs": [
        {
          "output_type": "stream",
          "text": [
            "Basic tests are passed.\n"
          ],
          "name": "stdout"
        }
      ]
    },
    {
      "metadata": {
        "id": "KtcRBc9D26CU",
        "colab_type": "text"
      },
      "cell_type": "markdown",
      "source": [
        "Run your implementation for questions from file *text_prepare_tests.tsv* to earn the points."
      ]
    },
    {
      "metadata": {
        "id": "HbhMmS5526CV",
        "colab_type": "code",
        "colab": {
          "base_uri": "https://localhost:8080/",
          "height": 101
        },
        "outputId": "9a83a0a6-d2e4-4796-a89a-08e519258937"
      },
      "cell_type": "code",
      "source": [
        "prepared_questions = []\n",
        "for line in open('data/text_prepare_tests.tsv', encoding='utf-8'):\n",
        "    line = text_prepare(line.strip())\n",
        "    prepared_questions.append(line)\n",
        "text_prepare_results = '\\n'.join(prepared_questions)\n",
        "\n",
        "grader.submit_tag('TextPrepare', text_prepare_results)"
      ],
      "execution_count": 24,
      "outputs": [
        {
          "output_type": "stream",
          "text": [
            "Current answer for task TextPrepare is:\n",
            " sqlite php readonly\n",
            "creating multiple textboxes dynamically\n",
            "self one prefer javascript\n",
            "save php date...\n"
          ],
          "name": "stdout"
        }
      ]
    },
    {
      "metadata": {
        "id": "e-l9t59026CZ",
        "colab_type": "text"
      },
      "cell_type": "markdown",
      "source": [
        "Now we can preprocess the titles using function *text_prepare* and  making sure that the headers don't have bad symbols:"
      ]
    },
    {
      "metadata": {
        "id": "8sZJjAJY26Ca",
        "colab_type": "code",
        "colab": {}
      },
      "cell_type": "code",
      "source": [
        "X_train = [text_prepare(x) for x in X_train]\n",
        "X_val = [text_prepare(x) for x in X_val]\n",
        "X_test = [text_prepare(x) for x in X_test]"
      ],
      "execution_count": 0,
      "outputs": []
    },
    {
      "metadata": {
        "id": "A7_b-uPo26Ci",
        "colab_type": "code",
        "colab": {
          "base_uri": "https://localhost:8080/",
          "height": 67
        },
        "outputId": "4a2375a9-f4e9-4ca5-be35-0a8da79469b1"
      },
      "cell_type": "code",
      "source": [
        "X_train[:3]"
      ],
      "execution_count": 26,
      "outputs": [
        {
          "output_type": "execute_result",
          "data": {
            "text/plain": [
              "['draw stacked dotplot r',\n",
              " 'mysql select records datetime field less specified value',\n",
              " 'terminate windows phone 81 app']"
            ]
          },
          "metadata": {
            "tags": []
          },
          "execution_count": 26
        }
      ]
    },
    {
      "metadata": {
        "id": "C4zybhpl26Cp",
        "colab_type": "text"
      },
      "cell_type": "markdown",
      "source": [
        "For each tag and for each word calculate how many times they occur in the train corpus. \n",
        "\n",
        "**Task 2 (WordsTagsCount).** Find 3 most popular tags and 3 most popular words in the train data and submit the results to earn the points."
      ]
    },
    {
      "metadata": {
        "id": "1Go6Dl0v26Cq",
        "colab_type": "code",
        "colab": {}
      },
      "cell_type": "code",
      "source": [
        "# Dictionary of all tags from train corpus with their counts.\n",
        "tags_counts = {}\n",
        "# Dictionary of all words from train corpus with their counts.\n",
        "words_counts = {}\n",
        "\n",
        "######################################\n",
        "######### YOUR CODE HERE #############\n",
        "######################################\n",
        "\n",
        "words = []\n",
        "tags  = []\n",
        "\n",
        "for x in X_train:\n",
        "  for w in (nltk.word_tokenize(x)):\n",
        "    words.append(w)\n",
        "tags.append(tags.append(nltk.pos_tag(words)))\n",
        "\n",
        "for word,tag in tags[0]:\n",
        "  #checking if the tag existis on dictionary\n",
        "  if tag in tags_counts: \n",
        "    tags_counts[tag]   += 1\n",
        "  else:\n",
        "    tags_counts[tag]    = 0\n",
        "  #checking if the word existis on dictionary\n",
        "  if word in words_counts:\n",
        "    words_counts[word] += 1\n",
        "  else:\n",
        "    words_counts[word] = 0"
      ],
      "execution_count": 0,
      "outputs": []
    },
    {
      "metadata": {
        "id": "SNsjyNbRDGZI",
        "colab_type": "code",
        "colab": {}
      },
      "cell_type": "code",
      "source": [
        "\n"
      ],
      "execution_count": 0,
      "outputs": []
    },
    {
      "metadata": {
        "id": "UteyyEPyFoTH",
        "colab_type": "code",
        "colab": {
          "base_uri": "https://localhost:8080/",
          "height": 54
        },
        "outputId": "f5b63501-6c0f-4ec0-b236-fb33b02ed1d8"
      },
      "cell_type": "code",
      "source": [
        ""
      ],
      "execution_count": 108,
      "outputs": [
        {
          "output_type": "execute_result",
          "data": {
            "text/plain": [
              "dict_keys(['using', 'c', 'php', 'java', 'file', 'javascript', '#', 'error', 'get', 'python', 'string', 'array', 'data', 'jquery', 'value', 'function', 'object', 'class', 'use', 'c++', 'list', 'method', 'multiple', 'text', 'image', 'page', 'rails', 'form', 'create', 'html', 'type', 'code', 'set', 'working', 'database', 'add', 'convert', 'mysql', 'json', 'server', 'variable', 'android', 'values', 'aspnet', 'way', 'application', 'change', 'button', 'find', 'django', 'one', 'without', 'windows', 'can', 'not', 'table', 'call', 'files', 'ajax', 'check', 'time', 'name', 'two', 'ruby', 'getting', 'date', 'web', 'make', 'user', 'input', 'xml', 'app', 'another', 'element', 'custom', 'event', 'api', 'access', 'url', 'number', 'spring', 'view', 'sql', 'return', 'mvc', 'select', 'google', 'query', 'inside', 'exception', 'display', 'column', 'read', 'loop', 'swift', 'new', 'work', 'remove', 'load', 'r', 'objects', 'property', 'line', 'cant', 'pass', 'click', 'net', 'framework', 'update', 'script', 'vs', '2', 'post', 'null', 'creating', 'request', 'different', 'field', 'key', 'run', 'row', 'doesnt', 'ios', 'service', 'linq', 'div', 'open', 'window', 'project', 'wpf', 'format', 'best', 'show', 'controller', 'variables', 'undefined', 'specific', 'dynamically', 'adding', 'based', 'angularjs', 'control', 'parameter', 'send', 'model', '3', 'library', 'difference', 'insert', 'first', 'passing', 'vbnet', 'js', 'regex', 'elements', 'codeigniter', 'eclipse', 'within', 'path', 'dynamic', 'visual', 'memory', 'connection', 'possible', 'id', 'thread', 'save', 'default', '+', 'via', 'running', 'size', 'program', 'found', 'content', 'reference', 'issue', 'attribute', 'write', 'studio', 'laravel', 'search', 'test', 'excel', 'static', 'session', 'output', 'http', 'character', 'characters', 'entity', 'current', 'problem', 'client', 'calling', 'empty', 'simple', 'int', 'css', 'parameters', 'upload', 'command', '1', 'reading', 'directory', 'validation', 'map', 'hibernate', 'selected', 'textbox', 'unable', 'browser', 'images', 'item', 'index', 'link', 'facebook', 'expression', 'store', 'setting', 'delete', 'single', 'template', 'like', 'statement', 'strings', 'rows', 'failed', 'header', 'replace', 'loading', 'login', 'box', 'iphone', '4', 'numbers', 'color', 'nested', 'returning', 'print', 'instance', 'background', 'pdf', 'char', 'parse', 'could', 'disable', 'bootstrap', 'message', 'csv', 'module', 'tag', 'converting', 'chrome', 'x', 'parent', 'invalid', 'returns', 'local', 'methods', 'need', 'connect', 'email', 'changing', 'trying', 'response', 'functions', 'install', 'redirect', 'angular', 'order', 'dictionary', 'arrays', 'dropdown', 'classes', 'folder', 'generate', 'bar', 'submit', 'pandas', 'process', 'columns', 'child', 'source', 'checkbox', 'integer', 'count', 'sending', 'start', 'parsing', 'items', 'detect', 'double', 'datetime', 'hide', 'fields', 'jsp', 'console', 'gridview', 'pointer', 'selenium', 'import', 'linux', '7', 'constructor', 'random', 'programmatically', 'action', 'collection', 'instead', 'version', 'datagridview', 'filter', 'sort', 'objectivec', 'website', 'generic', 'last', 'result', 'build', 'system', 'download', 'split', 'properties', 'interface', 'iframe', 'back', 'nodejs', 'cell', 'binding', 'arguments', '5', 'datatable', 'syntax', 'xcode', 'scroll', 'onclick', 'binary', '0', 'external', 'position', 'socket', 'execute', 'include', 'rest', 'called', 'missing', 'word', 'maps', 'implement', 'typeerror', 'byte', 'copy', 'whats', 'extension', 'refresh', 'video', 'menu', 'match', 'given', 'argument', 'node', 'wordpress', 'retrieve', 'regular', 'accessing', 'forms', 'canvas', 'showing', 'document', 'results', 'ui', 'runtime', 'arraylist', 'defined', 'handle', 'drop', 'group', 'apache', 'errors', 'large', 'opencv', 'height', 'compare', 'wcf', 'address', 'ie', 'mobile', 'many', 'properly', 'member', 'equivalent', '8', 'screen', 'exists', 'global', 'plugin', 'password', 'expected', 'vector', 'events', 'jar', 'maven', 'length', 'location', 'writing', 'types', 'numpy', 'servlet', 'html5', 'extract', 'width', 'stored', 'close', 'dataframe', 'dialog', 'certain', 'help', 'used', 'range', 'style', 'names', 'handling', 'prevent', 'automatically', 'works', 'resource', 'magento', 'every', 'tomcat', 'fails', 'cast', 'created', 'pattern', 'warning', 'frame', 'popup', 'wrong', 'contains', 'enum', 'validate', 'displaying', 'updating', 'qt', 'curl', 'package', 'stop', 'must', 'testing', 'listview', 'operator', '2d', 'space', 'put', 'authentication', 'context', 'conversion', 'keys', 'auto', 'structure', 'callback', 'main', 'saving', 'token', 'end', 'exist', 'long', 'tab', 'db', 'problems', 'foreach', 'existing', 'dll', 'always', 'block', 'sorting', 'grid', 'finding', 'matplotlib', 'remote', 'sqlite', 'buttons', 'option', 'bind', 'determine', 'modal', 'firefox', 'stream', 'performance', 'tags', 'label', 'plot', 'mac', 'join', 'decimal', 'combobox', 'uncaught', 'phone', 'radio', 'example', 'chart', 'compile', 'unexpected', 'attributes', 'dom', 'checking', 'correctly', 'right', 'tables', 'point', 'installing', 'users', 'lines', 'base', 'mouse', 'float', 'basic', 'support', 'struct', 'tree', 'hash', 'making', 'unit', 'unique', 'scope', 'threads', 'correct', 'duplicate', 'catch', 'next', 'handler', 'mean', 'already', 'wont', 'edit', 'even', 'good', 'task', 'admin', 'uitableview', 'removing', 'matrix', 'pages', 'namespace', 'contents', 'valid', 'graph', 'dates', 'lists', 'sdk', 'log', 'encoding', 'const', 'debug', 'objective', 'case', 'calculate', 'changes', 'site', 'programming', 'configuration', 'storing', 'side', 'active', 'sum', 'full', 'limit', 'keep', 'jpa', 'top', 'listbox', 'implementation', 'animation', 'unicode', 'append', 'override', 'printing', 'winforms', 'mongodb', 'twitter', 'allow', 'record', 'part', 'resize', 'utf8', 'core', 'lambda', 'loaded', 'mail', 'ip', 'security', 'controls', 'play', 'times', 'pdo', 'layout', 'selection', 'async', 'fatal', 'game', 'records', 'define', 'bean', 'language', 'switch', 'boolean', 'webdriver', 'cookie', 'draw', 'constant', 'outside', 'cakephp', 'domain', 'gui', 'force', 'unknown', 'true', 'inserting', 'assign', 'wait', 'port', 'false', 'mode', '20', 'slow', 'named', 'state', 'focus', 'oracle', 'issues', 'requests', 'mapping', 'netbeans', 'available', 'condition', 'multidimensional', 'enable', 'generated', 'ubuntu', 'assembly', 'jdbc', 'uploading', 'clicked', 'device', 'gem', 'populate', 'yii', 'specified', 'swing', 'soap', 'required', 'special', 'engine', 'initialize', 'checked', 'exceptions', '2010', 'executing', 'know', 'network', 'bad', 'native', '6', 'avoid', 'tkinter', 'javafx', 'webservice', 'try', 'design', 'timeout', 'month', 'export', 'efficient', 'trigger', 'n', 'want', '404', 'heroku', 'move', 'question', 'os', 'component', '10', 'timer', 'dont', 'iterate', 'stack', 'zend', 'words', 'body', 'textarea', 'views', 'implementing', 'compiler', 'clicking', 'linked', 'symbol', 'clear', 'render', 'flask', 'root', 'navigation', 'symfony2', 'second', 'datagrid', 'pointers', 'fill', 'ssl', 'inheritance', 'private', 'route', 'procedure', 'particular', 'rspec', 'information', 'left', 'scrolling', 'declaration', 'status', 'behind', 'bytes', 'fetch', 'fix', 'services', 'calendar', 'reflection', 'push', 'spaces', 'algorithm', 'xpath', 'alert', 'apply', 'cache', 'integers', 'youtube', 'development', 'calls', 'dependency', 'options', 'maximum', 'hex', 'max', 'https', 'usage', 'progress', 'target', 'previous', 'environment', 'models', 'merge', 'title', 'practice', 'internet', 'comparing', 'changed', 'headers', 'driver', 'notification', 'libraries', 'boost', 'matching', 'apps', 'statements', 'panel', 'symfony', 'shared', 'font', 'opengl', 'tests', 'processing', 'comma', 'public', 'xaml', 'installed', 'datepicker', 'separate', 'standard', 'icon', 'resources', 'directive', 'report', 'abstract', 'links', 'htaccess', 'better', 'hidden', 'container', 'serialize', 'debugging', 'logging', 'would', 'asp', 'resolve', 'autocomplete', 'junit', 'configure', 'ggplot2', 'react', 'see', 'hashmap', 'partial', 'alternative', 'queries', 'selecting', 'visible', 'echo', 'messages', 'returned', 'throws', 'devise', 'something', 'keyboard', 'proxy', 'svg', 'checkboxes', 'declare', 'generating', 'denied', 'take', 'jtable', 'whether', 'coordinates', 'escape', 'operation', 'quotes', 'causes', 'virtual', 'formatting', 'extjs', 'day', 'drag', 'jsf', 'reload', 'drawing', 'setup', 'contain', 'shell', 'product', 'dataset', 'intellij', 'machine', 'delegate', 'webpage', 'entities', 'rendering', 'queue', 'strange', 'phonegap', 'containing', 'cells', 'applications', 'twice', 'dropdownlist', 'connecting', 'inline', 'per', 'execution', 'gcc', 'razor', 'blank', 'relationship', 'uiview', 'level', 'opening', 'ms', 'conditional', 'serialization', 'gives', 'widget', 'initialization', 'relative', 'modify', 'safe', 'etc', 'internal', 'nodes', 'jqgrid', 'definition', 'timestamp', 'capture', 'batch', 'importing', 'building', 'retrieving', 'expressions', 'compiling', 'else', 'allowed', 'added', 'still', 'numeric', 'tcp', 'year', 'host', 'sqlalchemy', 'seconds', 'doctrine', 'selector', 'href', 'boot', 'highcharts', 'cookies', 'nsstring', 'foreign', 'jframe', 'jackson', 'starting', 'config', 'annotation', 'embedded', 'fast', 'reset', 'protocol', 'touch', 'injection', 'section', 'firing', 'tabs', 'jaxb', 'webbrowser', 'ascii', 'points', 'closing', 'overriding', 'transaction', 'postgresql', 'trouble', 'hover', 'sharepoint', 'passed', 'labels', 'cursor', 'able', 'gwt', 'recursive', 'specify', 'sequence', 'anchor', 'localhost', 'explorer', 'urls', 'asynchronous', 'assignment', 'replacing', 'deploy', 'fixed', 'webview', 'giving', 'days', 'templates', 'exit', 'fastest', 'base64', 'restful', 'deleting', 'toggle', 'axis', 'nil', 'go', 'v3', 'enter', 'osx', 'proper', 'vb', '500', 'moving', 'digits', 'nhibernate', 'activerecord', 'casting', 'ignore', 'stl', 'faster', 'permission', 'settings', 'pagination', 'mysqli', 'border', 'lock', 'including', 'loops', 'serial', 'declared', 'incorrect', 'caching', 'activity', 'username', 'real', 's3', 'effect', 'sent', 'comparison', 'complex', 'complete', 'safari', 'invoke', 'across', 'uitableviewcell', 'txt', 'void', 'audio', 'programatically', 'multi', 'zip', 'speed', 'increment', 'singleton', 'combine', 'buffer', '3d', 'scripts', 'modules', 'equal', 'place', 'center', 'keyword', 'closed', 'inner', 'repository', 'routing', 'filtering', 'integration', 'iis', 'break', 'letter', 'mock', 'causing', 'express', 'ie8', 'heap', 'whole', 'bundle', 'mvvm', 'letters', 'ant', 'winform', 'crash', '2008', 'uploaded', 'poi', 'substring', 'bit', 'identifier', 'receive', 'extra', 'leak', 'pip', 'deserialize', 'src', 'self', 'entry', 'series', 'following', 'require', 'blob', 'amazon', 'success', 'ftp', 'browsers', 'shows', 'free', 'smtp', 'isnt', 'macro', '2012', 'share', 'solution', 'primary', 'extracting', 'camera', 'flash', 'communication', 'rake', 'generator', 'controllers', 'tableview', 'dependencies', 'around', 'failure', 'storage', 'listener', 'exe', 'generics', 'microsoft', 'area', 'tell', 'provider', 'failing', 'beautifulsoup', 'marker', 'cocoa', 'iterator', 'secure', 'parallel', 'win32', 'bool', 'downloading', 'cross', 'negative', 'depending', 'itextsharp', 'unity', 'solve', 'divs', 'tutorial', 'decode', 'datasource', 'recursion', 'directly', 'scrapy', 'ipad', 'sockets', 'timezone', 'editor', 'slider', 'idea', 'anonymous', 'understanding', 'requires', 'instances', 'calculating', 'com', 'non', 'png', 'give', 'ggplot', 'silverlight', 'behavior', 'parser', 'tool', 'throw', 'detecting', 'white', 'similar', 'compilation', '40', 'webapi', 'iterating', 'waiting', 'throwing', 'jersey', 'unix', 'log4j', 'accept', 'less', 'children', 'executable', 'clause', 'applet', 'needed', 'perform', 'tuple', 'zoom', 'appear', 'reverse', 'animate', 'jboss', 'delay', 'd3', 'joomla', 'installation', 'typescript', 'raw', 'entire', 'certificate', 'optional', 'zero', 'receiving', 'gmail', 'uibutton', 'jpanel', 'rotate', 'illegal', 'colors', 'treeview', 'copying', 'takes', 'extend', 'big', 'references', 'filename', 'turn', 'primefaces', 'udp', 'matches', 'uri', 'subclass', 'embed', 'gradle', 'classpath', 'except', 'practices', 'mvc4', 'searching', 'drupal', 'backbonejs', 'nginx', 'manually', 'ckeditor', 'postback', '30', 'unsigned', 'crashes', 'desktop', 'supported', 'tooltip', 'due', 'commands', 'prepared', 'oauth', 'bound', 'duplicates', 'datatables', 'w', 'jvm', 'uiscrollview', 'occurred', 'connections', 'encryption', 'yii2', 'collections', 'creation', 'sessions', 'bottom', 'mvc3', 'ngrepeat', 'ide', 'minutes', 'counting', 'processes', 'prototype', 'fit', 'several', 'job', 'phpunit', 'tasks', 'profile', 'looping', 'annotations', 'img', 'paypal', 'equals', 'projects', 'blocks', 'production', 'var', 'present', 'bitmap', 'backbone', 'prompt', 'incompatible', '32', 'resolved', 'initializing', 'automatic', 'linking', 'account', 'usercontrol', 'comments', 'exec', 'textfield', 'info', 'infinite', 'increase', 'upon', 'amount', 'original', 'operations', 'separated', 'rvm', 'uiwebview', 'debugger', 'fragment', 'together', 'submitting', 'related', 'nullpointerexception', 'crystal', 'routes', 'disabled', 'websocket', 'literal', 'syntaxerror', 'conditions', 'derived', 'common', 'jsonnet', 'absolute', 'places', 'members', 'aspx', 'unhandled', 'markers', 'ef', 'gets', 'uiimageview', 'logged', 'step', 'small', 'im', 'uses', 'transparent', 'encode', 'onchange', 'offset', 'behaviour', 'displayed', 'horizontal', 'kendo', 'inputs', 'posting', 'azure', 'storyboard', 'ionic', 'fault', 'pop', 'garbage', 'multithreading', 'nothing', 'fail', 'paths', 'exactly', 'hiding', 'schema', 'association', 'instantiate', 'average', 'meteor', 'attributeerror', '31', 'builder', 'entries', '100', 'much', 'resizing', 'factory', 'fine', 'uiimage', 'vertical', 'sign', 'chat', 'd3js', 'encoded', 'td', 'validating', 'sorted', 'jni', 'deploying', 'assigning', 'b', 'sheet', 'highlight', 'xampp', 'distinct', 'architecture', 'li', 'manager', 'refreshing', 'live', 'updated', 'ids', '11', 'actual', 'drive', 'editing', 'helper', 'distance', 'cron', 'normal', 'hours', 'three', '_post', 'concatenate', 'keeping', 'bug', 'efficiently', 'viewmodel', 'total', 'deprecated', 'phpmyadmin', 'importerror', 'xamarin', 'struts', 'libgdx', 'params', 'looking', 'computer', 'lazy', 'mockito', 'war', 'repeater', 'release', 'lib', 'breaks', 'made', 'uitextfield', 'firebase', 'woocommerce', 'splitting', 'pairs', 'printf', 'transfer', '81', 'requested', 'codebehind', 'pygame', 'eval', 'dict', 'constraint', 'nsarray', 'uilabel', 'threejs', 'encrypt', 'settimeout', 'span', 'jdk', 'struts2', 'itext', 'reports', 'str', 'category', 'world', 'though', 'anything', 'orm', 'initial', 'hadoop', 'structs', 'press', 'old', 'thrown', 'httpclient', 'scale', 'threading', 'actually', 'management', 'nsmutablearray', 'never', 'generation', 'home', 'exclude', 'redirecting', 'fire', 'components', 'analytics', 'packages', 'sets', 'rectangle', 'cause', '2013', 'detection', 'plotting', 'started', 'forward', 'picture', 'register', 'platform', 'devices', 'referenced', 'slide', 'frames', 'plain', 'symbols', 'sub', 'skip', 'unrecognized', 'segmentation', 'feed', 'scraping', 'stdstring', 'xmlhttprequest', 'details', 'multiprocessing', 'converted', 'sound', 'pressed', 'newline', 'circle', 'approach', 'extending', 'g++', 'socketio', 'versions', 'destroy', 'cpu', 'charts', 'inject', 'done', 'really', 'cancel', 'folders', 'dimensional', 'cmake', 'round', 'pycharm', 'histogram', 'zone', 'paperclip', 'ignoring', 'readonly', 'final', 'mfc', 'media', 'weird', 'got', 'groups', 'ie9', 'easiest', 'ways', 'shiny', 'interfaces', 'phpexcel', 'refused', 'floating', 'await', 'picker', 'gson', 'restrict', 'verify', 'please', 'rename', 'violation', 'vectors', 'spark', 'reduce', 'min', '64bit', 'included', 'tools', 'least', 'uiviewcontroller', 'permissions', 'populating', 'migration', 'initialized', 'functionality', 'colour', '9', 'odd', 'overloading', 'eloquent', 'runs', 'disabling', 'patterns', 'overlay', 'hyperlink', 'wrap', 'aws', 'dot', 'according', 'malloc', 'occurrences', 'taking', 'swt', 'clients', 'wrapper', 'layer', 'expects', 'listt', 'mp3', 'knockout', 'dictionaries', 'digit', 'rgb', 'transition', 'pyqt', 'brackets', 'uninitialized', 'randomly', 'nsdictionary', 'jstl', 'learn', '64', '35', 'extensions', 'makefile', 'ienumerable', 'pause', 'differences', 'beans', 'explicit', 'none', 'easy', 'may', 'written', 'saved', 'phpmailer', 'high', 'exact', 'ok', 'inserted', 'locale', 'doc', 'recursively', 'math', 'rather', 'git', 'signalr', 'photo', 'front', 'everything', 'scanner', 'posts', 'closure', 'reason', 'also', 'received', 'jenkins', 'appconfig', 'hour', 'confirm', 'wsdl', 'unsupported', 'calculation', 'preg_match', 'documents', 'happens', 'identity', 'uicollectionview', 'appending', 'learning', 'precision', 'signal', 'registry', 'counter', 'week', 'known', 'valueerror', 'lookup', 'textboxes', 'localstorage', 'comment', 'logic', 'feature', 'chars', 'inherited', 'glassfish', 'padding', 'master', 'referenceerror', 'align', 'lost', 'additional', 'prefix', 'chartjs', 'restart', 'c++11', 'deployment', 'webconfig', 'pythons', 'iteration', 'percentage', 'terminal', 'submission', 'arduino', 'merging', 'online', 'nonobject', 'makes', 'jsoup', 'pool', 'constants', 'implicit', 'transform', 'ldap', '27', 'optimize', 'sharing', 'emails', 'enums', 'thumbnail', 'underscore', 'beginning', 'square', 'postgres', 'fancybox', 'pil', 'tensorflow', 'cordova', 'constraints', 'innerhtml', 'md5', 'combo', 'dojo', 'javalangnoclassdeffounderror', 'direct', 'uitextview', 'pure', 'clean', 'graphics', 'purpose', 'fetching', 'bash', 'completely', 'simulate', 'unresolved', 'arc', 'updates', 'obtain', 'p', 'concurrent', 'rewrite', 'sample', 'manytomany', 'deserializing', 'naming', 'launch', 'moq', 'identify', 'linker', 'upgrade', 'mouseover', 'modified', 'fade', 'dd', 'reloading', 'confusion', 'figure', 'eg', '24', 'polygon', 'exporting', 'mismatch', 'pixel', 'scanf', 'queryset', 'rotation', 'sqlite3', 'rules', 'kernel', 'greater', 'signature', 'explain', 'legend', 'init', 'bin', 'adapter', 'latitude', 'longitude', 'preg_replace', 'well', 'includes', 'grouping', 'cli', 'streaming', 'track', 'declaring', 'black', 'interop', 'openssl', 'parts', 'notifications', 'subset', 'nokogiri', 'startup', 'short', 'locate', 'hello', 'orientation', 'protected', 'connected', 'mm', 'managed', 'player', 'versus', 'stdout', 'nunit', 'deserialization', 'relation', 'wamp', 'modifying', 'footer', 'general', 'multithreaded', 'individual', 'assets', 'opencart', 'theme', 'richtextbox', 'jasmine', 'pair', 'ready', 'compiled', 'xsd', 'notation', 'contact', 'coding', 'either', 'operators', '16', 'plus', 'customize', 'executed', 'combining', 'stdin', 'milliseconds', 'backend', 'cart', 'hangs', 'httpwebrequest', 'finished', 'editable', 'allocated', 'transactions', 'broken', 'couldnt', 'manage', 'actions', 'howto', 'documentation', 'clicks', 'calculator', 'integrate', 'price', 'lxml', 'products', 'bluetooth', 'hashes', 'multiline', 'oop', 'setinterval', 'confirmation', 'implicitly', 'serializing', 'wxpython', 'understand', 'highlighting', 'opened', 'simulator', 'switching', 'loads', 'preview', 'threadsafe', 'circular', 'occurrence', 'plots', 'look', 'boxes', 'whitespace', 'matlab', 'inputstream', 'formatted', 'criteria', 'rule', 'observable', 'attachment', 'recognized', 'mono', 'ee', 'json_encode', 'yyyy', 'resultset', 'namespaces', 'longer', 'resolution', 'spreadsheet', 'completion', 'examples', 'associative', 'groovy', 'jpeg', 'setter', 'reactjs', 'phps', 'cucumber', 'databases', 'constructors', 'nsdata', 'ejb', 'enabled', 'subprocess', 'provide', 'putting', 'querystring', 'screenshot', 'finish', 'allocation', 'scrollbar', 'jaxrs', 'gdb', 'mingw', 'mongoose', 'fired', 'jbutton', 'seems', 'currently', 'detected', 'disk', 'arrow', 'latest', 'triggered', 'databinding', 'emberjs', 'cloud', 'simplexml', 'promise', 'arbitrary', 'implemented', 'elegant', 'shape', 'multiply', 'swipe', 'querying', 'scala', 'invoking', 'positive', 'linear', 'bounds', 'slash', 'datatype', 'super', 'knockoutjs', 'initializer', 'callbacks', 'capistrano', 'choose', 'developer', 'multipart', 'defining', 'jpg', 'fullcalendar', 'cors', 'outlook', 'along', 'needs', 'videos', 'tinymce', 'asynchronously', 'clickable', 'replacement', 'relationships', 'onload', 'jaxws', 'separator', 'yes', 'textview', 'jtextfield', 'nsdate', 'frameworks', '45', 'fork', 'rsa', 'party', 'pixels', 'capybara', 'ssh', 'sure', 'outer', 'metadata', 'seem', 'twig', 'manipulation', '50', 'metro', 'meaning', 'hook', 'utc', 'third', 'decrypt', 'servers', 'composer', 'usb', 'trailing', 'country', 'attach', 'catching', 'paste', 'adonet', 'logger', 'registration', '13', 'recognize', 'pipe', 'gems', 'coffeescript', 'simplest', 'openmp', 'backgroundworker', 'appears', 'wrapping', 'mark', 'hashtable', 'raise', 'vaadin', 'specifying', 'validator', 'aes', 'bindings', 'liststring', 'pack', 'monitor', 'aggregate', 'br', '51', '17', 'union', 'carousel', 'scipy', 'tuples', 'realtime', 'tostring', 'xaxis', 'referencing', 'applied', 'wicket', 'automapper', 'collision', 'sometimes', 'region', 'toolbar', 'months', 'rid', 'filling', 'preprocessor', 'clipboard', '12', 'redis', 'overflow', 'lucene', 'card', 'structures', 'nameerror', 'jlabel', 'preserve', 'dataframes', 'playing', 'celery', 'built', 'viewcontroller', '25', 'ffmpeg', 'slower', 'powershell', 'persist', 'regexp', 'groupby', 'requirejs', 'pc', 'dealing', 'reader', 'alphanumeric', 'mocking', 'preventing', '15', 'developing', 'successful', 'escaping', 'stopped', 'expand', 'segue', 'codes', 'rmi', 'stuck', 'going', 'scan', 'nan', 'mongoid', 'crm', 'callable', 'entered', 'optimization', 'passenger', 'interactive', 'alternatives', 'sms', 'dependent', 'wildcard', 'logout', 'es6', 'serializable', 'sinatra', 'angular2', 'redirection', 'minimum', 'subtract', 'immediately', 'serverside', 'styles', 'smooth', 'middle', 'builtin', 'websphere', 'mongo', 'necessary', 'triangle', 'head', 'primitive', 'ensure', 'overload', 'repeat', 'ordering', 'devexpress', 'synchronous', 'has_many', 'description', 'destructor', 'odbc', 'imageview', 'expecting', 'mssql', 'comprehension', 'interval', 'exchange', 'leaflet', 'software', 'camel', 'io', 'anyone', 'onetomany', 'continue', 'locking', 'objc', 'indexes', 'maintain', 'leading', 'jinja2', 'zf2', 'notice', 'adjust', 'terminate', 'compatible', 'mask', 'construct', 'ints', 'losing', 'ie7', 'realm', 'polymorphism', 'repeating', 'lowercase', '2015', 'suitable', 'casperjs', 'tornado', 'avoiding', 'indices', 'ignored', 'overwrite', 'delegates', 'ul', 'categories', 'clone', 'questions', 'vertically', 'bars', 'webclient', 'hosting', 'allocate', 'payment', 'pull', 'strip', 'listen', 'accessible', 'csrf', 'follow', 'css3', 'applying', 'filters', 'quote', 'weblogic', 'widgets', 'configuring', 'nonetype', 'associated', 'errno', 'kill', 'clientside', 'rendered', '14', 'e', 'handlers', 'enabling', 'divide', 'aborted', 'ad', 'universal', 'accordion', 'servlets', 'performing', 'hql', '200', 'emacs', 'emulator', 'credentials', 'completed', 'sencha', 'decryption', 'manifest', 'websites', 'someone', 'auth', 'crud', 'starts', 'beginner', 'apple', 'delimited', 'consecutive', 'rss', 'updatepanel', 'directories', 'cuda', 'hexadecimal', 'crop', 'reporting', 'crashing', 'deep', 'styling', 'uinavigationcontroller', 'pie', 'perl', 'smaller', 'nonstatic', 'authorization', 'cxf', 'javalangnullpointerexception', 'expressjs', 'locally', 'alias', 'testng', 'sprite', 'readable', 'caused', 'jre', 'tutorials', 'windowopen', 'slice', 'plugins', 'haml', 'extends', 'ambiguous', 'registered', 'breaking', 'dimension', 'larger', 'translate', 'ror', 'log4net', 'cut', 'printer', 'fly', 'measure', 'operand', 'decoding', 'dplyr', 'explanation', '403', 'timed', 'exceeded', 'converter', '2005', 'observablecollection', 'regression', 'tracking', 'usr', 'lua', 'fullscreen', 'huge', 'rotating', 'respond', 'strategy', 'cmd', 'addresses', 'underlying', 'warnings', 'advantages', 'carrierwave', 'produce', 'displays', 'navigate', 'repeated', '53', 'coordinate', 'role', 'standalone', 'says', 'continuous', 'superclass', 'tr', 'choice', 'keyvalue', 'subview', 'clang', 'flag', 'jms', 'virtualenv', 'stdvector', 'imported', 'dimensions', 'excluding', 'later', 'xlsx', 'placeholder', 'collapse', 'xdocument', 'duration', 'currency', 'zeros', 'others', 'quickly', 'mutex', 'commas', 'grab', 'older', 'jfreechart', 'creator', 'cms', 'grouped', 'triggering', 'ipython', 'extended', 'guava', 'shift', 'attempting', 'javalangclassnotfoundexception', 'authenticated', '3rd', 'appearing', 'occurs', 'twisted', 'autolayout', 'gallery', 'h', 'reuse', 'trace', 'unity3d', 'worker', '400', 'ndk', 'seed', 'memcached', 'compute', 'asset', 'assigned', 'corresponding', 'hierarchy', 'modelform', 'floats', 'encrypted', 'blocking', 'quick', 'priority', 'vim', 'foo', 'meta', 'v', 'joda', 'pythonic', 'orderby', 'cygwin', 'plist', 'phpini', 'uialertview', 'immutable', 'alignment', 'closest', 'shown', 'apis', 'capturing', 'hostname', 'texture', 'largest', '_get', 'explicitly', 'spinner', 'uipickerview', 'asynctask', 'lodash', 'icons', 'progressbar', 'horizontally', 'viewer', 'contained', 'bulk', 'formula', 'mootools', 'blocked', 'activeadmin', 'beautiful', '52', 'origin', 'consuming', 'retain', 'representation', 'xslt', 'visibility', 'clearing', 'enough', 'signed', 'multiplication', 'deal', 'sentence', 'jndi', 'rounding', 'various', 'springboot', 'simultaneously', 'tick', 'conditionally', 'bundler', 'subdomain', 'designer', 'param', 'elasticsearch', 'nsuserdefaults', 'getter', '32bit', 'manipulate', 'keypress', 'link_to', 'synchronization', 'webpack', 'frequency', 'javalangstring', 'flow', 'domains', 'swap', 'chain', 'insertion', 'come', 'landscape', 'attempt', 'mechanize', 'router', 'protractor', 'ce', 'friends', 'persistent', 'mixed', 'polymer', 'paragraph', 'instagram', 'provided', 'parentheses', '54', 'determining', 'pymongo', 'regarding', 'idle', 'edittext', 'netty', 'ios7', 'pivot', 'let', 'combination', 'watch', 'decimals', 'rstudio', 'leaks', 'unchecked', 'jars', 'picturebox', 'keeps', 'knowing', 'linkedlist', 'firebug', 'handled', 'appengine', 'arithmetic', 'temporary', 'sync', 'photos', 'installer', 'shortcut', 'codeblocks', 'htmlagilitypack', 'evaluate', 'refer', 'serve', 'truncated', 'webapp', 'downloaded', 'multiselect', 'twodimensional', 'xna', 'file_get_contents', 'cases', 'polymorphic', 'combinations', 'streams', 'dev', 'sqlstate', 'compact', 'detail', 'pressing', 'javas', 'gulp', 'flip', 'insensitive', 'countdown', 'cgi', 'win', 'javadoc', 'positioning', '2011', '41', '1000', 'period', 'ordered', 'distribution', 'xib', 'endpoint', 'mime', 'inherit', 'programs', 'away', 'history', 'levels', 'thumbnails', 'navbar', 'vm', 'sensitive', 'obj', 'codec', 'light', 'ifelse', 'disappear', 'stops', 'independent', 'integrating', 'dump', 'ends', 'phantomjs', 'draggable', 'workbook', 'communicate', 'creates', 'gzip', 'elastic', 'paging', 'bold', 'edge', 'jsonp', 'formats', 'composite', 'dlls', 'pyqt4', 'commit', 'linkedin', 'boostasio', 'implements', 'menus', 'imap', 'tried', 'frontend', 'allowing', 'intellisense', 'mapped', 'sources', 'odata', 'vs2010', 'safety', 'ember', 'classnotfoundexception', 'jsonparse', 'momentjs', '21', 'checkout', 'jasper', 'synchronized', 'cpp', 'redirects', 'jump', 'nomethoderror', 'enumeration', 'recommended', 'deadlock', 'limited', 'features', 'graphs', 'cluster', 'assertion', 'hard', 'consume', 'power', 'customer', 'macros', 'supports', 'posted', 'resharper', 'listeners', 'webkit', 'identical', 'concatenation', 'preparedstatement', 'opens', 'nearest', 'directives', 'embedding', 'longest', 'gps', 'channel', 'cython', 'functional', 'pthread', 'jsonarray', 'jsonobject', 'animations', 'globally', 'accessed', 'locked', 'thing', 'python3', 'authenticate', 'hashing', '18', 'ratio', 'fluent', 'increasing', 'outputting', 'grails', 'successfully', 'manual', 'winrt', 'handshake', 'advanced', 'jade', 'parents', 'populated', 'uninstall', 'indexing', 'onto', 'i18n', 'afnetworking', 'fileupload', 'publish', 'differently', 'overloaded', 'intent', 'english', 'anaconda', 'mat', 'preserving', 'yet', 'threaded', 'sublime', 'fires', '22', 'attached', 'raphael', 'alpha', 'rails3', 'sleep', 'arent', 'unused', 'responsive', 'might', 'gd', 'represent', 'shadow', 'compress', 'trim', 'schedule', 'memcache', 'collect', 'alphabetically', 'uppercase', 'backup', 'invocation', 'hosted', 'sprintf', 'serving', 'typed', 'el', 'imagemagick', 'concurrency', 'incomplete', 'ascending', 'lower', 'v2', 'customizing', 'select2', 'uwp', 'nth', 'forbidden', 'unavailable', 'iso', 'webinf', 'nullable', 'lion', 'appropriate', 'localization', 'configured', 'djangos', 'alamofire', 'javasqlsqlexception', 'bits', 'delimiter', 'roles', 'rounded', 'urllib2', 'soup', 'factor', 'maintaining', 'containers', 'guid', 'scrollview', 'markdown', 'cocos2d', 'kivy', 'thymeleaf', 'jquerys', 'iterators', 'clock', 'producing', 'prime', 'notify', 'sizes', 'rate', 'injecting', 'textblock', 'margin', 'stdmap', 'ienumerablet', 'consolelog', 'mysqldb', 'yyyymmdd', 'bubble', 'javamail', 'launching', 'wall', 'unittest', 'linqtosql', 'mq', 'fragments', 'multithread', 'scrape', 'listing', 'sections', 'imports', 'cs', 'messagebox', 'docker', 'vc++', 'websockets', 'mkmapview', 'foundation', 'locations', 'entityframework', 'matrices', 'tokens', 'subclassing', 'slideshow', 'turning', 'concatenating', 'lightweight', 'gcm', 'joining', 'agility', '_server', 'x64', 'trycatch', 'suppress', 'xp', 'renaming', 'invoked', 'unmanaged', 'temporarily', 'mapreduce', 'guice', 'scene', 'friendly', 'leave', 'igniter', 'dragging', 'solr', 'forcing', 'greasemonkey', 'mailer', 'versa', 'joins', 'smallest', 'people', 'begin', 'persistence', 'supplied', 'retrieved', 'eof', 'improve', 'belongs_to', 'entering', 'fully', 'accesscontrolalloworigin', 'retrofit', 'documentgetelementbyid', 'safely', 'kind', 'gc', 'dispatcher', 'shapes', 'npm', 'didnt', 'listening', 'migrating', 'yaxis', 'uncheck', 'optimizing', 'stay', 'prepare', 'logs', 'deleted', 'panels', 'xxx', 'underscorejs', 'autofac', 'deployed', 'coredata', 'layers', 'despite', 'oledb', 'bufferedreader', 'uploads', 'redux', 'depth', 'complexity', 'webrtc', 'iframes', 'minute', 'aspect', 'decorator', 'gateway', 'recaptcha', 'monitoring', 'positions', 'pyspark', 'unexpectedly', 'grunt', 'choices', 'allows', 'flatten', 'session_start', 'centos', 'indexof', 'near', 'webgl', 'httpurlconnection', 'commandline', 'pipeline', 'resume', 'bitwise', 'vuejs', 'classname', 'keydown', 'vice', 'hierarchical', 'fabricjs', 'formdata', 'github', 'nltk', 'f', 'conflict', 'unauthorized', 'std', 'jetty', 'stacked', 'tap', 'city', 'spacing', 'highest', 'volume', 'clickonce', '2007', 'generates', 'quartz', 'javalangoutofmemoryerror', 'swf', 'office', 'rdlc', 'crawler', 'subviews', 'zooming', 'interpreter', 'persisting', 'eager', 'beanstalk', 'ngclick', 'achieve', 'liferay', 'leaving', 'overlapping', 'descending', 'instantiated', 'automated', 'convention', 'jobs', 'undeclared', 'xss', 'compatibility', 'caught', 'lots', 'scalar', 'evaluating', 'asmx', 'effects', 'automation', 'blur', 'ec2', 'wp7', 'ref', 'coming', 'javautildate', 'low', 'val', '33', 'accepting', 'webservices', 'httppost', 'crossplatform', 'angle', 'confused', 'means', 'gradient', 'mixing', 'computing', 'qml', 'gesture', 'barplot', 'javascripts', 'upgrading', 'hold', 'pooling', 'sites', 'computers', 'subfolder', 'limiting', 'getelementbyid', 'terminating', 'limits', 'serialized', 'mod_rewrite', '61', 'interview', 'threadpool', 'yaml', 'terminated', 'recent', 'broadcast', 'bypass', 'pointing', 'nilnilclass', 'actionlistener', '60', '2nd', 'indexphp', 'ternary', 'recognition', 'scheduled', 'develop', 'gif', 'till', 'corrupted', 'procedures', 'backing', 'spec', 'jscrollpane', 'builds', 'onmouseover', 'typing', 'colon', 'finally', 'wmi', 'directx', 'years', 'closures', 'scatter', 'business', 'encrypting', 'queues', 'since', 'star', 'logical', 'book', 'modifier', 'reorder', 'ever', 'material', 'direction', 'msbuild', 'ranges', 'stringformat', 'pm', 'radiobutton', 'clr', 'whose', 'getjson', 'animating', 'loader', 'z', 'cached', 'scheduler', 'packets', 'surface', 'rollback', 'payload', 'stylesheet', 'advice', 'registering', '2x', 'rich', 'pomxml', '401', 'instantiation', 'fb', 'indentation', 'nullreferenceexception', 'passwords', 'reached', 'drawn', 'diff', 'higher', 'stopping', 'httpget', 'winapi', 'doubles', 'delphi', 'ports', 'escaped', 'encountered', 'languages', 'ending', 'closes', 'serializer', 'webserver', 'managepy', 'thats', 'phpfpm', 'minus', 'bring', 'equation', 'xls', 'freeze', 'four', 'division', 'incoming', 'freezes', 'parsed', 'benefits', 'subscript', 'jumping', 'jython', 'restore', 'keywords', 'foreignkey', 'opacity', 'animated', 'nstimer', 'archive', 'gae', 'indicator', 'sliding', 'expire', 'dots', 'hbase', 'newlines', 'dbcontext', 'addition', 'g', 'smarty', 'pthreads', 'membership', 'alive', 'classic', 'databind', 'stand', 'beta', 'peer', 'entitymanager', 'workaround', 'braces', 'dash', 'dismiss', '23', 'paint', 'goes', 'hang', 'fonts', 'karma', 'resizable', 'svn', 'followed', 'ibm', 'indent', 'processed', 'dns', 'hit', 'gtk', 'javalangillegalstateexception', '34', 'filled', 'elapsed', 'datacontext', 'choosing', 'databound', 'ie11', '193', 'scripting', 'easily', 'parameterized', 'intersection', 'ngmodel', 'triggers', 'owin', 'conventions', 'shopping', 'mocha', 'org', 'marks', 'human', 'powerpoint', 'alphabetical', 'migrate', 'coverage', 'consumer', 'dialogs', 'pushing', 'attr', 'happen', 'openlayers', 'dropbox', 'protobuf', 'toolkit', 'training', '1d', '302', 'states', 'equality', 'steps', 'utility', 'loaderror', 'selectors', 'writer', 'truncate', 'incrementing', 'useful', 'explode', 'protect', '000', 'wildcards', 'formatter', 'na', 'disappears', 'webmethod', 'answer', 'score', 'runnable', 'valgrind', 'today', 'synchronize', 'infowindow', 'sass', 'jqueryui', 'mod_wsgi', 'jqueryajax', 'sessionfactory', 'tls', 'sequences', 'responding', 'specifically', 'scheme', 'removed', 'newly', 'considered', 'applicable', 'specifier', 'guide', 'axes', 'quit', '26', 'stripe', 'iis7', 'ff', 'cocoapods', 'hitting', 'cloning', 'ilist', 'xamarinforms', 'springmvc', 'statistics', 'submitted', 'recommend', 'stringbuilder', 'efficiency', 't_string', 'responses', 'duplicated', 'javalangillegalargumentexception', 'destination', 'certificates', '1st', 'literals', 'ssis', 'vba', 'calculations', 'cons', 'telerik', 'preferred', 'asio', 'future', 'browse', 'translation', 'clustering', 'shutdown', 'handlebars', 'quiz', 'ipn', 'worksheet', 'linkbutton', 'parsecom', 'suite', 'maximize', 'axis2', 'disadvantages', '3x', 'avplayer', 'apostrophe', 'javalangclasscastexception', 'javaioioexception', 'concat', 'physical', 'sparse', 'pictures', 'music', 'mysql_fetch_array', 'traversal', 'umbraco', 'masterpage', 'json_decode', 'unless', 'social', 'conflicting', 'remotely', 'datastore', 'desired', 'dollar', 'dispose', 'downloads', 'uirouter', 'memorystream', 'indexed', 'scenario', 'bucket', 'segment', 'mpi', 'anchors', 'interpreted', 'restkit', 'es', 'datetimepicker', 'appended', 'corners', 'matched', 'stretch', 'acceptable', 'h2', 'connector', '43', 'artifact', 'typefile', 'magic', 'uitableviewcells', 'manytoone', 'gone', 'underscores', 'produces', 'recognizing', 'continuously', 'customized', 'filenames', 'weeks', 'occured', 'ask', 'evaluation', 'writes', 'arabic', 'packet', 'benefit', 'kit', 'fscanf', 'pipes', 'cipher', 'overwriting', 'mvc5', 'wifi', 'marked', 'associations', 'mpmovieplayercontroller', 'kafka', 'verification', 'modern', 'doxygen', 'controlling', 'ext', 'reliable', 'scikitlearn', 'incorrectly', 'abort', 'modification', 'initializers', 'assert', 'doctrine2', 'classs', 'designing', 'ago', 'ive', 'bracket', '55', 'geolocation', 'datatemplate', 'descriptor', 'scopes', 'db2', 'manipulating', 'degrees', 'scrollable', 'exited', 'portable', 'charset', 'classloader', 'foreground', 'automate', 'sheets', 'nio', '80', 'sonar', 'reasons', 'servicestack', 'obtaining', 'openerp', 'instantiating', 'systems', 'ones', 'seperate', 'strict', 'suffix', 'compression', '2003', 'traffic', 'extern', 'unicodeencodeerror', 'pin', 'overrides', 'invisible', 'thousand', 'mysql_query', 'declarations', 'past', 'bot', 'suggestions', 'slicing', 'unwanted', 'knitr', 'resolving', 'accuracy', 'arraylists', 'managing', 'advantage', 'uisearchbar', 'alternate', 'decrypting', 'pydev', 'conflicts', 'remember', 'rand', 'helpers', 'multilevel', '42', 'upper', 'proguard', 'corner', 'compilers', 'phpstorm', 'nsurlconnection', 'interaction', 'keyup', 'executes', 'epoch', 'pyside', '_session', 'xsl', 'unload', 'listobject', 'expired', 'located', 'gdi+', 'analysis', 'j2me', 'annotated', 'interrupt', 'radius', 'visualization', 'wrapped', 'suddenly', 'isset', 'slashes', 'electron', 'simple_form', 'dealloc', 'intercept', 'autowired', 'summary', 'comes', 'varchar', 'py', '405', 'noclassdeffounderror', 'calayer', 'xmlserializer', 'percent', 'sender', 'definitions', 'segfault', 'grey', 'inheriting', 'respect', 'typedef', 'localized', 'highchart', 'k', 'lat', 'wildfly', 'effective', 'indexhtml', 'chaining', 'pros', 'pulling', 'inserts', 'zindex', '19', 'php5', 'offline', 'reusing', 'newbie', 'webforms', 'us', 'little', 'semicolon', 'tail', 'flush', 'red', 'looks', 'hive', 'mp4', '_', 'printed', 'promises', 'pojo', 'placed', 'xelement', 'interpolation', 'tmp', 'connectionstring', 'rectangles', 'boundary', 'iqueryable', 'splash', 'curly', 'resized', 'vs2008', 'operands', 'beyond', 'malformed', 'mix', 'internally', 'remaining', 'activemq', 'mamp', 'chunk', 'computed', 'posix', 'threw', 'transient', 'ignores', 'refactoring', 'unicodedecodeerror', 'construction', 'backslash', 'focused', 'pom', 'erase', 'simply', 'specification', 'subdomains', 'mdb', 'establish', 'overhead', '_files', 'activation', 'tabbar', 'techniques', 'pick', 'contexts', 'expose', 'oriented', 'uinavigationbar', 'fopen', 'released', 'prestashop', 'hdfs', 'density', 'redraw', 'exercise', 'previously', 'processstart', 'profiling', 'yield', 'japanese', 'restarting', 'timestamps', '__init__', 'popover', 'curve', 'minimize', 'ticks', 'transport', 'rabbitmq', 'crossbrowser', 'assemblies', 'crossdomain', 'welcome', 'ansi', 'gmt', 'j2ee', 'timeline', 'cycle', 'todays', 'salesforce', 'caller', 'jmeter', 'geocoding', 'overlap', 'imagefield', 'rolling', 'activex', 'hy000', 'movie', 'xmlreader', 'nesting', 'mass', 'seo', 'javac', 'aligned', 'existence', 'sidebar', 'integral', 'traverse', 'transformation', 'scrolled', 'solutions', 'seen', 'tips', 'textfile', 'msvc', 'integrity', 'quality', 'unordered', 'windowlocation', 'googles', 'visitors', 'chinese', 'rewriting', 'migrations', 'flat', 'anyway', 'redirected', 'contenttype', 'sized', 'nsinvalidargumentexception', 'fadein', 'x86_64', 'messaging', 'spritekit', 'term', 'tile', 'vs2012', 'representing', 'degree', 'hhmmss', 'ioexception', 'uploader', 'permutations', 'movement', 'subprocesspopen', 'apk', 'actionscript', 'implementations', 'algorithms', 'scaling', 'correlation', 'supposed', 'systemstring', 'imshow', 'recording', 'separately', 'viewport', 'vsto', 'accurate', 'ninject', 'supporting', 'itemssource', 'transactional', 'optimized', 'culture', 'env', 'opencl', 'docx', 'storyboards', 'onetoone', 'bidirectional', 'args', 'paper', 'substrings', 'inconsistent', 'overridden', 'preference', 'ocr', 'stdset', 'flexible', 'girl', 'factorygirl', 'vbscript', 'carriage', 'scientific', 'raising', 'forloop', 'predicate', 'simultaneous', 'forever', 'requiring', 'resetting', 'expensive', 'borders', 'int32', 'hanging', 'predefined', 'lambdas', 'navigating', 'xhtml', 'mapkit', 'x86', 'punctuation', 'observe', 'signals', 'loses', 'edition', 'periodically', 'wav', 'writable', 'think', 'placement', 'nspredicate', 'polyline', 'anyobject', 'mathematical', 'sdl', 'markup', 'sends', 'neural', 'processor', 'flags', 'openshift', 'demo', 'sqlcommand', 'autowire', 'gb', 'volley', 'webcam', 'textures', 'nonblocking', 'cake', 'taskbar', 'argumenterror', 'ios5', 'javalangnosuchmethoderror', 'jscript', 'selects', 'osgi', 'mechanism', 'debian', 'randomize', 'retry', 'facet', 'digital', 'jasperreports', 'wp8', 'alphabet', 'uiimagepickercontroller', 'nib', 'ssrs', 'handles', 'hyphen', 'combined', 'intended', 'subplots', 'collector', 'outofmemoryerror', 'stub', 'dao', 'availability', 'presence', 'djangorestframework', 'credit', 'dirty', 'policy', 'varying', 'aka', 'associate', 'samples', 'jodatime', 'subfolders', 'things', 'transparency', 'workflow', 'numerical', 'vagrant', 'dynamodb', 'highlighted', 'constantly', 'secret', 'ddmmyyyy', 'hack', 'transpose', 'accepts', 'cocos2dx', 'mainwindow', '2dimensional', 'raised', 'speech', 'workspace', 'contacts', 'windowprint', 'categorical', 'uitableviewcontroller', 'neither', 'pdfs', 'addin', 'news', 'sqlexception', 'xy', '128', 'age', 'cards', 'translating', 'unserialize', 'adobe', 'ram', 'raphaeljs', 'wxwidgets', 'album', 'subclasses', 'driven', 'dispatch', 'marshalling', 'attaching', 'mb', 'ampersand', 'simulation', 'depends', 'possibly', 'taken', 'alone', 'attack', 'unbind', 'webform', 'preferences', 'notepad++', 'middleware', 'sequentially', 'placeholders', 'datalist', 'holding', 'nonascii', 'xmlelement', 'exc_bad_access', 'delimiters', 'chosen', 'arrows', 'dbmigrate', 'asterisk', 'classcastexception', 'board', 'viewing', 'presses', 'hashcode', 'configurable', 'ideas', 'tweet', 'subquery', 'breakpoint', 'amounts', 'subdirectory', 'alertdialog', 'polling', 'jwt', 'significant', 'calculated', 'richfaces', 'ld', 'cin', 'freed', 'reducing', 'mappings', 'pid', 'breakpoints', 'az', 'drawer', 'guessing', 'jsonstringify', 'chunks', 'dictionarystring', 'serialport', 'downgrade', 'awt', 'se', 'partially', 'scrollbars', 'effectively', 'requirements', 'hardware', 'webpages', 'atomic', 'systemnullreferenceexception', 'compared', 'layouts', 'sortable', 'ioc', 'hides', 'hresult', 'setters', 'checkboxlist', 'mod', 'although', 'targets', 'datarow', 'asking', 'ef6', 'enclosing', 'deletion', 'cassandra', 'ci', 'xhr', 'gemfile', 'subtracting', 'hovering', 'homebrew', 'contextmenu', 'redirect_to', 'wants', 'eclipselink', 'httpservletrequest', 'thousands', 'grayscale', 'unsafe', 'solved', 'emulate', 'unset', 'nuget', 'leaves', 'xmpp', 'qstring', 'vertex', 'pad', 'pi', 'reversing', 'viewbag', 'legacy', 'pre', 'feeds', '90', 'rank', 'portion', 'javanetsocketexception', 'pdoexception', 'readline', 'timespan', 'frequent', 'homepage', 'arm', 'tooltips', 'contenteditable', 'uicollectionviewcell', 'sailsjs', 'finishes', 'disconnect', 'marshal', 'svm', 'trap', 'official', 'loss', 'admob', 'sequential', 'releasing', 'perfect', 'gstreamer', 'diagonal', 'natural', 'regardless', 'threadsleep', 'addeventlistener', 'stringsplit', 'onclicklistener', 'receiver', 'soft', 'buffers', 'nice', 'argv', 'mysql2', 'windowonload', 'masked', 'nonzero', 'immediate', 'relational', 'shouldnt', 'activate', 'affect', '1204', 'platforms', 'findall', 'hot', '192', 'leopard', 'drawrect', 'httpresponse', 'daemon', 'discrete', 'stock', 'collectionview', 'ipaddress', 'emit', 'usable', 'swagger', 'environments', 'smoothly', 'pretty', 'templated', 'alter', 'validations', 'nsdateformatter', 'wp', 'suspend', 'titles', 'prev', 'removal', 'vnext', 'underline', 'stackoverflow', 'act', 'expect', 'payments', 'margins', 'latex', 'filesystem', 'activities', 'lose', 'mysqli_query', 'greek', 'cpanel', 'qtcreator', 'filtered', 'actively', 'iterable', 'multiplying', 'remain', 'rubygems', 'fake', 'subscribe', 'identifying', 'scrolltop', 'docs', 'sqlconnection', 'ppt', 'disappearing', '256', 'elementwise', 'pyplot', 'mutable', 'concept', 't_variable', 'pending', 'observer', 'reflect', 'subject', 'annotate', 'submenu', 'directions', 'aop', 'consumption', 'flex', 'sunday', 'outline', 'timeseries', 'cout', 'opensource', 'reply', 'shortest', 'operating', 'decrement', 'func', 'spider', 'sense', 'circles', 'license', 'clojure', 'anymore', 'flasksqlalchemy', 'windsor', 'fallback', 'invalidate', 'administrator', 'lang', 'childs', 'meteorjs', 'userdefined', 'reactnative', 'stanford', 'outputstream', 'separating', 'logon', 'turned', 'recyclerview', 'asm', 'weak', 'adds', 'wizard', 'tpl', '09', 'bat', 'inflating', 'expanding', 'pthread_create', 'interact', 'glsl', 'sizeof', 'crossorigin', 'itemtemplate', 'colored', 'factors', 'blog', 'outputs', 'locks', 'captured', 'copied', 'nsobject', 'snake', 'mysql_connect', 'disposed', 'lvalue', 'linearlayout', 'thirdparty', 'friend', 'amp', 'occur', 'accepted', 'producer', 'chromedriver', 'happening', 'indexerror', 'rejected', 'subdirectories', 'pragma', 'doubly', 'getters', 'five', 'acquire', 'blackberry', 'serversocket', 'openxml', 'internationalization', 'nsurl', 'rcp', 'temp', 'onsubmit', 'accessor', 'interest', 'permitted', 'sandbox', 'gray', 'probability', 'grammar', 'sibling', '__getitem__', 'timeouts', 'crontab', 'distinguish', 'fan', 'becomes', 'lot', 'acting', 'wheel', 'detached', 'appium', '16bit', 'hub', 'backgroundimage', 'capitalize', 'unfortunately', 'affected', 'cropping', 'wide', 'secured', 'showdialog', 'discover', 'straight', 'backspace', 'concrete', 'segments', 'refactor', 'international', 'pyramid', 'optimal', 'backwards', 'llvm', 'outofmemoryexception', 'unmarshalling', 'communicating', 'weka', 'illegalstateexception', 'mapper', 'hooks', 'ascx', 'receives', 'visit', 'street', 'ws', 'cstring', 'comparisons', 'kml', 'assignments', 'preferably', 'prop', 'maybe', 'tfs', 'legal', 'profiler', 'cellforrowatindexpath', 'chance', 'www', 'worth', '75', 'djangoadmin', 'stable', 'important', 'say', 'theres', 'inspect', 'bytearray', 'timing', 'apns', 'pyc', 'java_home', 'routeprovider', 'prints', 'dir', 'organize', 'coldfusion', 'manner', 'pro', 'retrieval', 'cascading', 'ngshow', 'couchdb', 'lengths', 'corruption', 'repositories', 'helloworld', 'maximized', '1404', 'machines', 'caseinsensitive', 'lan', 'stroke', '__attribute__', 'q', 'cshtml', 'relations', 'castle', 'permutation', 'delayed', 'smart', 'accounts', 'typetext', 'usercontrols', 'strongly', 'kinect', 'has_one', 'represented', 'timezones', 'mavericks', 'comparator', 'deviation', 'sys', 'snap', 'rect', 'cascade', 'grabbing', 'limitations', 'stamp', 'intervals', 'getelementsbyclassname', 'yesterday', 'skipping', 'unbound', 'figures', 'turns', 'rotated', 'hyperlinks', 'newer', 'repo', 'clob', 'placing', 'didselectrowatindexpath', 'oserror', 'dropping', 'raspberry', 'enumerate', 'rubys', 'scanning', 'toggling', 'prototypes', 'apache2', 'corrupt', 'impossible', 'strcpy', 'versioning', 'nonempty', 'specialization', 'flickering', 'reach', 'viewpager', 'improving', 'ear', 'submits', 'allocating', 'edited', 'meant', 'stdclass', 'temperature', 'forwarding', '502', 'person', '05', 'barcode', 'resulting', 'shorter', 'require_once', 'digest', 'contentlength', 'parameterless', 'involving', 'subtraction', '36', 'cost', 'exposing', '70', 'avaudioplayer', 'slug', 'constructed', 'disconnected', 'among', 'badge', 'attempts', 'ipv6', 'shell_exec', 'oauth2', 'theano', 'terms', 'displaynone', 'parenthesis', 'j', 'dynamics', 'lifecycle', 'busy', 'affecting', 'ddl', 'mouseout', 'uml', 'redirecttoaction', 'destruction', 'pausing', 'outofmemory', 'prevents', 'inactive', 'histograms', 'instanceof', 'patch', 'datasets', 'centering', 'adjusting', 'fixing', 'swapping', 'iterations', 'monthly', 'declares', 'dummy', 'openid', 'instruction', 'lag', 'u', 'marionette', 'mandatory', 'conform', 'unlock', 'killed', 'opposed', 'ctrl', 'ordinal', 'systemtimerstimer', 'subscription', 'trees', 'jpanels', 'providing', 'reactive', 'javaiofilenotfoundexception', 'mediawiki', 'rearrange', 'libs', 'percentages', 'attacks', 'webapplication', 'solving', 'nsmutabledictionary', 'getelementsbytagname', 'panning', 'webxml', 'recover', 'repeats', 'partialview', 'pager', 'simplexmlelement', 'reactrouter', 'retrive', 'jinja', 'rn', 'generators', 'selectedindex', 'portrait', 'neo4j', 'mstest', 'mousemove', 'ini', 'consider', 'concurrenthashmap', 'jdbctemplate', 'dead', 'parallelforeach', '46', 'backward', 'gridlayout', 'perfectly', 'httprequest', 'visitor', 'robust', 'phrase', 'reliably', 'situation', 'biggest', 'recv', 'cleanup', 'dock', 'reversed', 'undo', 'nsnumber', 'purposes', 'settext', 'i++', 'objectid', 'props', 'nas', 'de', 'strong', 'pieces', 'browserify', 'predict', 'documentready', 'simplify', 'vars', 'monotouch', 'robot', 'isolate', 'secondary', 'repaint', 'bindingsource', 'half', 'godaddy', 'scratch', 'whilst', 'whitespaces', 'crawling', 'destroyed', 'analog', 'interceptor', 'engines', 'presentation', 'expiration', 'transitions', 'inherits', 'msg', 'affects', 'ngif', 'lnk2019', 'unpack', 'become', 'newtonsoftjson', 'contour', 'bridge', 'automating', 'ioerror', 'keystore', 'jruby', 'dist', 'seeing', 'reconnect', 'stringreplace', 'size_t', 'mistake', 'moved', 'hand', 'reserved', 'autowiring', 'scoping', 'crawl', 'hhmm', 'requesting', 'rmarkdown', 'clauses', 'permgen', 'leads', 'interpret', 'onblur', 'warn', 'behaving', 'published', 'filenotfoundexception', 'linebreaks', 'uitabbarcontroller', 'nav', 'commaseparated', 'requirement', 'follows', 'compareto', 'scrolls', 'motion', 'vista', 'moment', 'datarows', 'arrayliststring', 'prefer', 'fosuserbundle', 'technique', 'vb6', 'asterisks', 'suggestion', 'hint', 'tablet', 'behave', 'cvmat', 'drools', 'ensuring', 'concepts', 'contract', 'idiom', 'talk', 'rxjava', 'xxxx', 'rating', 'exiting', 'backcolor', 'autoscroll', 'phtml', 'lifetime', 'guaranteed', 'subarray', 'reusable', 'jsfiddle', '71', 'idiomatic', 'defines', 'squares', 'ended', 'javalangunsatisfiedlinkerror', 'sums', 'des', 'early', 'webstorm', 'sklearn', 'userid', 'transactionscope', 'fetched', 'stdlist', 'subqueries', 'sscanf', 'reject', 'aligning', 'strength', 'move_uploaded_file', 'intermediate', 'mvc2', 'dropdowns', 'java8', 'stores', 'troubles', 'benchmark', 'springs', 'ios8', 'grep', 'gap', 'reads', 'phase', 'xx', 'belong', 'textfields', 'form1', 'uibarbuttonitem', 'bundles', 'basics', 'aspectj', 'dos', '111', 'erb', 'executereader', 'form_for', 'latin', 'checkedlistbox', 'playlist', 'arg', 'outgoing', 'comparable', 'compiletime', 'quickest', 'realloc', 'networking', 'minimal', 'eliminate', 'as3', 'monday', 'deny', 'setattribute', 'notebook', 'dtype', 'traversing', 'mousedown', 'disposing', 'datasources', 'triangles', 'falls', 'unterminated', 'anywhere', 'sides', 'len', 'selecteditem', 'converts', 'constructing', 'suggest', 'urlopen', 'indirect', '323', 'runserver', 'reopen', 'moves', 'signing', 'created_at', 'di', 'stage', 'timers', 'ie10', '106', 'inmemory', 'grant', 'captcha', 'firebird', 'aurelia', 'initialise', 'distributed', 'room', '0s', 'gsub', 'tbody', 'servletcontext', 'midnight', 'puzzle', 'couple', 'scatterplot', '__dopostback', 'alt', 'mouseenter', 'browsing', 'setcookie', 'prepend', 'instant', 'air', 'restricting', 'truncating', 'str_replace', 'purchase', 'nsmanagedobject', 'stays', 'jquerymobile', 'pane', 'centered', 'scenarios', 'extremely', 'freezing', 'recognised', 'volatile', 'bigdecimal', 'wise', 'javalanginteger', 'oncreate', 'polynomial', 'jobject', 'instructions', 'mongoclient', 'opera', 'securely', 'pow', 'superview', 'blade', 'connectivity', 'paragraphs', 'javanetconnectexception', 'sun', 'practise', 'lwjgl', 'joined', 'checks', 'boundaries', 'cdi', 'urllib', 'succeeded', 'windowsh', 'decorators', 'normalize', 'simplexml_load_string', 'ellipse', '503', 'viewmodels', 'sqlserver', 'buffered', 'tabbed', 'datetimefield', 'practical', 'note', 'matter', 'parseint', 'met', 'pem', '301', 'var_dump', 'die', 'jasperreport', 'ashx', 'runner', 'programmatic', 'defaults', 'fall', 'porting', 'unescape', 'pods', 'picking', 'endless', 'dashes', 'selectedvalue', 'banner', 'utf', 'fontawesome', 'twoway', 'massive', 'complicated', 'cyrillic', 'webrequest', 'mysql_num_rows', 'euler', 'complement', 'stringify', 'basis', 'inactivity', 'viewdidload', 'current_user', 'subsets', 'authenticating', 'vowels', 'monodevelop', 'log4jxml', 'read_csv', 'killing', 'logo', 'million', 'enhanced', 'counts', 'advance', 'overwritten', 'interacting', 'popular', 'keyerror', 'soapclient', 'otherwise', 'paginate', 'nsinteger', 'hasmany', 'colours', 'precise', 'uint8_t', 'actionresult', 'rightclick', 'localtime', 'configurations', 'protection', 'programmer', 'reordering', 'troubleshooting', 'addclass', 'exits', 'often', 'taskrun', 'periodic', 'proc', 'developers', 'struggling', 'pound', 'premature', 'adjacent', 'sqlparameter', 'tweets', 'interprocess', 'depend', 'mozilla', 'groupbox', 'subcategories', 'uibuttons', 'assume', 'injected', 'print_r', 'catalog', 'attempted', 'roll', 'autoload', 'decoded', 'tries', 'flipping', 'respective', 'compiles', 'expiry', 'recommendations', 'popups', 'pushed', 'datetimes', 'executenonquery', 'primaryexpression', 'shipping', 'selectedindexchanged', 'routine', 'pan', 'daily', 'viewed', 'compressed', '110', 'complains', 'feedback', 'recipient', 'refuses', 'findviewbyid', 'xmlns', 'appdelegate', 'fashion', 'books', 'tapped', 'feel', 'publishing', 'update_attributes', 'weekends', 'finger', 'locating', 'mocked', 'cancellation', 'executorservice', 'recipients', 'viable', 'inference', 'quantity', 'confusing', 'compressing', 'branch', 'transforming', 'stylesheets', 'birth', 'springsecurity', 'saying', 'cv', 'capital', 'poor', 'money', 'corresponds', 'javalangruntimeexception', 'hashmaps', 'dim', 'requestbody', 'actionlink', 'zurb', 'standards', 'fileoutputstream', 'pod', 'bigger', 'transferred', 'tdd', 'listint', 'systemint32', 'keycode', 'sphere', 'workers', 'weekly', 'webpart', 'student', 'uuid', 'rbind', 'boxplot', 'gcd', 'crossthread', 'spy', 'fadeout', 'tiles', 'phones', 'verifying', 'difficulty', 'technology', 'jbuttons', 'triple', 'visited', 'qt5', 'goal', 'toolbox', 'sticky', 'modalpopupextender', 'unqualifiedid', 'bubbling', 'th', 'mapstring', 'javalangnumberformatexception', 'differ', 'stale', 'drawimage', 'quotation', 'exponent', 'socketexception', 'deferred', 'unnecessary', 'articles', 'mathround', 'artifacts', 'mvn', 'far', 'awesome', 'programme', 'modelsave', 'messed', 'listviewitem', 'facebooks', 'followers', 'nslog', '255', 'gaps', 'mesh', '187', 'sqldatasource', 'dbnull', 'semantic', 'applicationproperties', 'linqtoentities', 'alphabetic', 'defer', 'mysqlsock', 'scikit', 'painting', 'nonexistent', 'stdthread', 'life', 'documentcreateelement', 'splice', 'endpoints', 'redirect_uri', 'javax', 'createfile', '220', 'sqlquery', 'deck', 'snow', 'sublist', 'preflight', 'variadic', 'l', 'disallowed', 'logistic', 'google+', 'gaussian', 'retaining', 'intranet', 'itunes', 'collapsible', 'beginners', 'raises', 'sounds', 'objectoriented', '_request', 'differentiate', 'preload', 'contentsize', 'late', 'nsthread', 'merged', 'mimetype', 'discount', 'initiate', 'tabcontrol', 'pinch', 'caret', 'codefirst', 'continuewith', 'sitemap', 'simplexml_load_file', 'hashtag', 'nondefault', 'stringcontains', 'pylab', 'edges', 'mysql_real_escape_string', 'openfiledialog', 'subtype', '127', 'concurrently', 'textboxfor', 'vendor', 'finder', 'extjs4', 'redeclare', 'derive', 'piece', 'cover', 'javalangunsupportedclassversionerror', 'minification', 'mediaplayer', 'minimized', 'games', 'delivery', '8601', 'cumulative', 'typeof', 'push_back', 'rubygem', 'impact', 'zipped', 'uitabbar', 'applicationcontext', 'inputted', 'chromes', 'qwidget', 'statically', 'multibyte', 'jcombobox', 'raw_input', 'visualstudio', 'innertext', '0xc0000005', 'formed', 'localhost8080', 'findby', 'ifdef', 'saves', 'alphabets', 'multiples', 'cgridview', 'normally', 'referer', 'multicolumn', '1054', 'nongeneric', 'typecasting', 'r2', 'static_cast', 'javasqldate', 'fx', 'qpushbutton', 'modifiers', 'expires', 'eventhandler', 'androidviewinflateexception', 'obtained', 'bottleneck', 'trusted', 'ifstream', 'listitem', 'homework', 'ca', 'babel', 'x11', 'chef', 'polygons', 'mysql2error', 'absolutely', 'nethttp', 'median', 'recommendation', 'localize', 'skips'])"
            ]
          },
          "metadata": {
            "tags": []
          },
          "execution_count": 108
        }
      ]
    },
    {
      "metadata": {
        "id": "nszupnsM26Cs",
        "colab_type": "text"
      },
      "cell_type": "markdown",
      "source": [
        "We are assuming that *tags_counts* and *words_counts* are dictionaries like `{'some_word_or_tag': frequency}`. After applying the sorting procedure, results will be look like this: `[('most_popular_word_or_tag', frequency), ('less_popular_word_or_tag', frequency), ...]`. The grader gets the results in the following format (two comma-separated strings with line break):\n",
        "\n",
        "    tag1,tag2,tag3\n",
        "    word1,word2,word3\n",
        "\n",
        "Pay attention that in this assignment you should not submit frequencies or some additional information."
      ]
    },
    {
      "metadata": {
        "id": "66yeeOe026Ct",
        "colab_type": "code",
        "colab": {
          "base_uri": "https://localhost:8080/",
          "height": 67
        },
        "outputId": "e95c027c-5317-4158-e2c4-1e8452ea7039"
      },
      "cell_type": "code",
      "source": [
        "most_common_tags = sorted(tags_counts.items(), key=lambda x: x[1], reverse=True)[:3]\n",
        "most_common_words = sorted(words_counts.items(), key=lambda x: x[1], reverse=True)[:3]\n",
        "\n",
        "grader.submit_tag('WordsTagsCount', '%s\\n%s' % (','.join(tag for tag, _ in most_common_tags), \n",
        "                                                ','.join(word for word, _ in most_common_words)))"
      ],
      "execution_count": 71,
      "outputs": [
        {
          "output_type": "stream",
          "text": [
            "Current answer for task WordsTagsCount is:\n",
            " NN,JJ,NNS\n",
            "using,c,php...\n"
          ],
          "name": "stdout"
        }
      ]
    },
    {
      "metadata": {
        "id": "mvtFdcAJ26Cw",
        "colab_type": "text"
      },
      "cell_type": "markdown",
      "source": [
        "### Transforming text to a vector\n",
        "\n",
        "Machine Learning algorithms work with numeric data and we cannot use the provided text data \"as is\". There are many ways to transform text data to numeric vectors. In this task you will try to use two of them.\n",
        "\n",
        "#### Bag of words\n",
        "\n",
        "One of the well-known approaches is a *bag-of-words* representation. To create this transformation, follow the steps:\n",
        "1. Find *N* most popular words in train corpus and numerate them. Now we have a dictionary of the most popular words.\n",
        "2. For each title in the corpora create a zero vector with the dimension equals to *N*.\n",
        "3. For each text in the corpora iterate over words which are in the dictionary and increase by 1 the corresponding coordinate.\n",
        "\n",
        "Let's try to do it for a toy example. Imagine that we have *N* = 4 and the list of the most popular words is \n",
        "\n",
        "    ['hi', 'you', 'me', 'are']\n",
        "\n",
        "Then we need to numerate them, for example, like this: \n",
        "\n",
        "    {'hi': 0, 'you': 1, 'me': 2, 'are': 3}\n",
        "\n",
        "And we have the text, which we want to transform to the vector:\n",
        "\n",
        "    'hi how are you'\n",
        "\n",
        "For this text we create a corresponding zero vector \n",
        "\n",
        "    [0, 0, 0, 0]\n",
        "    \n",
        "And iterate over all words, and if the word is in the dictionary, we increase the value of the corresponding position in the vector:\n",
        "\n",
        "    'hi':  [1, 0, 0, 0]\n",
        "    'how': [1, 0, 0, 0] # word 'how' is not in our dictionary\n",
        "    'are': [1, 0, 0, 1]\n",
        "    'you': [1, 1, 0, 1]\n",
        "\n",
        "The resulting vector will be \n",
        "\n",
        "    [1, 1, 0, 1]\n",
        "   \n",
        "Implement the described encoding in the function *my_bag_of_words* with the size of the dictionary equals to 5000. To find the most common words use train data. You can test your code using the function *test_my_bag_of_words*."
      ]
    },
    {
      "metadata": {
        "id": "PMTiHypD26Cx",
        "colab_type": "code",
        "colab": {}
      },
      "cell_type": "code",
      "source": [
        "DICT_SIZE = 5000\n",
        "WORDS_TO_INDEX = dict(sorted(words_counts.items(), key=lambda x: x[1], reverse=True)[:DICT_SIZE])\n",
        "#INDEX_TO_WORDS = (1,2,3)  ####### YOUR CODE HERE #######\n",
        "ALL_WORDS = WORDS_TO_INDEX.keys()\n",
        "\n",
        "def my_bag_of_words(text, words_to_index, dict_size):\n",
        "    \"\"\"\n",
        "        text: a string\n",
        "        dict_size: size of the dictionary\n",
        "        \n",
        "        return a vector which is a bag-of-words representation of 'text'\n",
        "    \"\"\"\n",
        "    result_vector = np.zeros(dict_size)   \n",
        "    \n",
        "    ######################################\n",
        "    ######### YOUR CODE HERE #############\n",
        "    ######################################\n",
        "    vectorizer = CountVectorizer()\n",
        "    X = vectorizer.fit_transform(words_to_index)         \n",
        "    result_vector = vectorizer.transform([text]).toarray()    \n",
        "    #print('function result:', result_vector)    \n",
        "    \n",
        "    return result_vector"
      ],
      "execution_count": 0,
      "outputs": []
    },
    {
      "metadata": {
        "id": "mb96gPM826C1",
        "colab_type": "code",
        "colab": {}
      },
      "cell_type": "code",
      "source": [
        "def test_my_bag_of_words():\n",
        "    words_to_index = {'hi': 0, 'you': 1, 'me': 2, 'are': 3}\n",
        "    examples = ['hi how are you']\n",
        "    answers = [[1, 1, 0, 1]]\n",
        "    for ex, ans in zip(examples, answers):\n",
        "        if (my_bag_of_words(ex, words_to_index, 4) != ans).any():\n",
        "            return \"Wrong answer for the case: '%s'\" % ex\n",
        "    return 'Basic tests are passed.'"
      ],
      "execution_count": 0,
      "outputs": []
    },
    {
      "metadata": {
        "id": "g-QcMPa826C3",
        "colab_type": "code",
        "colab": {
          "base_uri": "https://localhost:8080/",
          "height": 50
        },
        "outputId": "621acb0e-c453-4677-937a-333bacdadc8a"
      },
      "cell_type": "code",
      "source": [
        "print(test_my_bag_of_words())"
      ],
      "execution_count": 136,
      "outputs": [
        {
          "output_type": "stream",
          "text": [
            "function result: [[1 1 0 1]]\n",
            "Basic tests are passed.\n"
          ],
          "name": "stdout"
        }
      ]
    },
    {
      "metadata": {
        "id": "vF0flurC26C6",
        "colab_type": "text"
      },
      "cell_type": "markdown",
      "source": [
        "Now apply the implemented function to all samples (this might take up to a minute):"
      ]
    },
    {
      "metadata": {
        "id": "9cVV0xZI26C6",
        "colab_type": "code",
        "colab": {}
      },
      "cell_type": "code",
      "source": [
        "from scipy import sparse as sp_sparse"
      ],
      "execution_count": 0,
      "outputs": []
    },
    {
      "metadata": {
        "id": "AJtDFy7J26C9",
        "colab_type": "code",
        "colab": {}
      },
      "cell_type": "code",
      "source": [
        "X_train_mybag = sp_sparse.vstack([sp_sparse.csr_matrix(my_bag_of_words(text, WORDS_TO_INDEX, DICT_SIZE)) for text in X_train])\n",
        "X_val_mybag = sp_sparse.vstack([sp_sparse.csr_matrix(my_bag_of_words(text, WORDS_TO_INDEX, DICT_SIZE)) for text in X_val])\n",
        "X_test_mybag = sp_sparse.vstack([sp_sparse.csr_matrix(my_bag_of_words(text, WORDS_TO_INDEX, DICT_SIZE)) for text in X_test])\n",
        "print('X_train shape ', X_train_mybag.shape)\n",
        "print('X_val shape ', X_val_mybag.shape)\n",
        "print('X_test shape ', X_test_mybag.shape)"
      ],
      "execution_count": 0,
      "outputs": []
    },
    {
      "metadata": {
        "id": "Zb2UZHdp26C_",
        "colab_type": "text"
      },
      "cell_type": "markdown",
      "source": [
        "As you might notice, we transform the data to sparse representation, to store the useful information efficiently. There are many [types](https://docs.scipy.org/doc/scipy/reference/sparse.html) of such representations, however sklearn algorithms can work only with [csr](https://docs.scipy.org/doc/scipy/reference/generated/scipy.sparse.csr_matrix.html#scipy.sparse.csr_matrix) matrix, so we will use this one."
      ]
    },
    {
      "metadata": {
        "id": "t5D8_xbL26DA",
        "colab_type": "text"
      },
      "cell_type": "markdown",
      "source": [
        "**Task 3 (BagOfWords).** For the 11th row in *X_train_mybag* find how many non-zero elements it has. In this task the answer (variable *non_zero_elements_count*) should be a number, e.g. 20."
      ]
    },
    {
      "metadata": {
        "id": "B7bnezes26DB",
        "colab_type": "code",
        "colab": {}
      },
      "cell_type": "code",
      "source": [
        "row = X_train_mybag[10].toarray()[0]\n",
        "non_zero_elements_count = ####### YOUR CODE HERE #######\n",
        "\n",
        "grader.submit_tag('BagOfWords', str(non_zero_elements_count))"
      ],
      "execution_count": 0,
      "outputs": []
    },
    {
      "metadata": {
        "id": "n-3PQSHW26DE",
        "colab_type": "text"
      },
      "cell_type": "markdown",
      "source": [
        "#### TF-IDF\n",
        "\n",
        "The second approach extends the bag-of-words framework by taking into account total frequencies of words in the corpora. It helps to penalize too frequent words and provide better features space. \n",
        "\n",
        "Implement function *tfidf_features* using class [TfidfVectorizer](http://scikit-learn.org/stable/modules/generated/sklearn.feature_extraction.text.TfidfVectorizer.html) from *scikit-learn*. Use *train* corpus to train a vectorizer. Don't forget to take a look into the arguments that you can pass to it. We suggest that you filter out too rare words (occur less than in 5 titles) and too frequent words (occur more than in 90% of the titles). Also, use bigrams along with unigrams in your vocabulary. "
      ]
    },
    {
      "metadata": {
        "id": "EaY2OICa26DE",
        "colab_type": "code",
        "colab": {},
        "collapsed": true
      },
      "cell_type": "code",
      "source": [
        "from sklearn.feature_extraction.text import TfidfVectorizer"
      ],
      "execution_count": 0,
      "outputs": []
    },
    {
      "metadata": {
        "id": "8mByLd3226DH",
        "colab_type": "code",
        "colab": {},
        "collapsed": true
      },
      "cell_type": "code",
      "source": [
        "def tfidf_features(X_train, X_val, X_test):\n",
        "    \"\"\"\n",
        "        X_train, X_val, X_test — samples        \n",
        "        return TF-IDF vectorized representation of each sample and vocabulary\n",
        "    \"\"\"\n",
        "    # Create TF-IDF vectorizer with a proper parameters choice\n",
        "    # Fit the vectorizer on the train set\n",
        "    # Transform the train, test, and val sets and return the result\n",
        "    \n",
        "    \n",
        "    tfidf_vectorizer = ####### YOUR CODE HERE #######\n",
        "    \n",
        "    ######################################\n",
        "    ######### YOUR CODE HERE #############\n",
        "    ######################################\n",
        "    \n",
        "    return X_train, X_val, X_test, tfidf_vectorizer.vocabulary_"
      ],
      "execution_count": 0,
      "outputs": []
    },
    {
      "metadata": {
        "id": "9bO9IUvO26DL",
        "colab_type": "text"
      },
      "cell_type": "markdown",
      "source": [
        "Once you have done text preprocessing, always have a look at the results. Be very careful at this step, because the performance of future models will drastically depend on it. \n",
        "\n",
        "In this case, check whether you have c++ or c# in your vocabulary, as they are obviously important tokens in our tags prediction task:"
      ]
    },
    {
      "metadata": {
        "id": "sjBBH5IM26DL",
        "colab_type": "code",
        "colab": {},
        "collapsed": true
      },
      "cell_type": "code",
      "source": [
        "X_train_tfidf, X_val_tfidf, X_test_tfidf, tfidf_vocab = tfidf_features(X_train, X_val, X_test)\n",
        "tfidf_reversed_vocab = {i:word for word,i in tfidf_vocab.items()}"
      ],
      "execution_count": 0,
      "outputs": []
    },
    {
      "metadata": {
        "id": "eg1QzWjU26DO",
        "colab_type": "code",
        "colab": {},
        "collapsed": true
      },
      "cell_type": "code",
      "source": [
        "######### YOUR CODE HERE #############"
      ],
      "execution_count": 0,
      "outputs": []
    },
    {
      "metadata": {
        "id": "eLxV-mFF26DT",
        "colab_type": "text"
      },
      "cell_type": "markdown",
      "source": [
        "If you can't find it, we need to understand how did it happen that we lost them? It happened during the built-in tokenization of TfidfVectorizer. Luckily, we can influence on this process. Get back to the function above and use '(\\S+)' regexp as a *token_pattern* in the constructor of the vectorizer.  "
      ]
    },
    {
      "metadata": {
        "id": "Jx0G-n7W26DU",
        "colab_type": "text"
      },
      "cell_type": "markdown",
      "source": [
        "Now, use this transormation for the data and check again."
      ]
    },
    {
      "metadata": {
        "id": "sdylEbSs26DU",
        "colab_type": "code",
        "colab": {},
        "collapsed": true
      },
      "cell_type": "code",
      "source": [
        "######### YOUR CODE HERE #############"
      ],
      "execution_count": 0,
      "outputs": []
    },
    {
      "metadata": {
        "id": "Ufjki5Fu26DX",
        "colab_type": "text"
      },
      "cell_type": "markdown",
      "source": [
        "### MultiLabel classifier\n",
        "\n",
        "As we have noticed before, in this task each example can have multiple tags. To deal with such kind of prediction, we need to transform labels in a binary form and the prediction will be a mask of 0s and 1s. For this purpose it is convenient to use [MultiLabelBinarizer](http://scikit-learn.org/stable/modules/generated/sklearn.preprocessing.MultiLabelBinarizer.html) from *sklearn*."
      ]
    },
    {
      "metadata": {
        "id": "rRbxfjXG26DX",
        "colab_type": "code",
        "colab": {},
        "collapsed": true
      },
      "cell_type": "code",
      "source": [
        "from sklearn.preprocessing import MultiLabelBinarizer"
      ],
      "execution_count": 0,
      "outputs": []
    },
    {
      "metadata": {
        "id": "Z9tdaUzy26Da",
        "colab_type": "code",
        "colab": {},
        "collapsed": true
      },
      "cell_type": "code",
      "source": [
        "mlb = MultiLabelBinarizer(classes=sorted(tags_counts.keys()))\n",
        "y_train = mlb.fit_transform(y_train)\n",
        "y_val = mlb.fit_transform(y_val)"
      ],
      "execution_count": 0,
      "outputs": []
    },
    {
      "metadata": {
        "id": "M464Cgip26De",
        "colab_type": "text"
      },
      "cell_type": "markdown",
      "source": [
        "Implement the function *train_classifier* for training a classifier. In this task we suggest to use One-vs-Rest approach, which is implemented in [OneVsRestClassifier](http://scikit-learn.org/stable/modules/generated/sklearn.multiclass.OneVsRestClassifier.html) class. In this approach *k* classifiers (= number of tags) are trained. As a basic classifier, use [LogisticRegression](http://scikit-learn.org/stable/modules/generated/sklearn.linear_model.LogisticRegression.html). It is one of the simplest methods, but often it performs good enough in text classification tasks. It might take some time, because a number of classifiers to train is large."
      ]
    },
    {
      "metadata": {
        "id": "F-dy2T-926Df",
        "colab_type": "code",
        "colab": {},
        "collapsed": true
      },
      "cell_type": "code",
      "source": [
        "from sklearn.multiclass import OneVsRestClassifier\n",
        "from sklearn.linear_model import LogisticRegression, RidgeClassifier"
      ],
      "execution_count": 0,
      "outputs": []
    },
    {
      "metadata": {
        "id": "jZOzG13426Dj",
        "colab_type": "code",
        "colab": {},
        "collapsed": true
      },
      "cell_type": "code",
      "source": [
        "def train_classifier(X_train, y_train):\n",
        "    \"\"\"\n",
        "      X_train, y_train — training data\n",
        "      \n",
        "      return: trained classifier\n",
        "    \"\"\"\n",
        "    \n",
        "    # Create and fit LogisticRegression wraped into OneVsRestClassifier.\n",
        "\n",
        "    ######################################\n",
        "    ######### YOUR CODE HERE #############\n",
        "    ######################################    "
      ],
      "execution_count": 0,
      "outputs": []
    },
    {
      "metadata": {
        "id": "4QrD43xk26Dn",
        "colab_type": "text"
      },
      "cell_type": "markdown",
      "source": [
        "Train the classifiers for different data transformations: *bag-of-words* and *tf-idf*."
      ]
    },
    {
      "metadata": {
        "id": "AeUfYMST26Dv",
        "colab_type": "code",
        "colab": {},
        "collapsed": true
      },
      "cell_type": "code",
      "source": [
        "classifier_mybag = train_classifier(X_train_mybag, y_train)\n",
        "classifier_tfidf = train_classifier(X_train_tfidf, y_train)"
      ],
      "execution_count": 0,
      "outputs": []
    },
    {
      "metadata": {
        "id": "XLQGvIFc26Dx",
        "colab_type": "text"
      },
      "cell_type": "markdown",
      "source": [
        "Now you can create predictions for the data. You will need two types of predictions: labels and scores."
      ]
    },
    {
      "metadata": {
        "id": "rLqGbYzZ26Dy",
        "colab_type": "code",
        "colab": {},
        "collapsed": true
      },
      "cell_type": "code",
      "source": [
        "y_val_predicted_labels_mybag = classifier_mybag.predict(X_val_mybag)\n",
        "y_val_predicted_scores_mybag = classifier_mybag.decision_function(X_val_mybag)\n",
        "\n",
        "y_val_predicted_labels_tfidf = classifier_tfidf.predict(X_val_tfidf)\n",
        "y_val_predicted_scores_tfidf = classifier_tfidf.decision_function(X_val_tfidf)"
      ],
      "execution_count": 0,
      "outputs": []
    },
    {
      "metadata": {
        "id": "6-OlmipH26D1",
        "colab_type": "text"
      },
      "cell_type": "markdown",
      "source": [
        "Now take a look at how classifier, which uses TF-IDF, works for a few examples:"
      ]
    },
    {
      "metadata": {
        "id": "EhnH6y0K26D3",
        "colab_type": "code",
        "colab": {},
        "collapsed": true
      },
      "cell_type": "code",
      "source": [
        "y_val_pred_inversed = mlb.inverse_transform(y_val_predicted_labels_tfidf)\n",
        "y_val_inversed = mlb.inverse_transform(y_val)\n",
        "for i in range(3):\n",
        "    print('Title:\\t{}\\nTrue labels:\\t{}\\nPredicted labels:\\t{}\\n\\n'.format(\n",
        "        X_val[i],\n",
        "        ','.join(y_val_inversed[i]),\n",
        "        ','.join(y_val_pred_inversed[i])\n",
        "    ))"
      ],
      "execution_count": 0,
      "outputs": []
    },
    {
      "metadata": {
        "id": "DSvYQTn826D4",
        "colab_type": "text"
      },
      "cell_type": "markdown",
      "source": [
        "Now, we would need to compare the results of different predictions, e.g. to see whether TF-IDF transformation helps or to try different regularization techniques in logistic regression. For all these experiments, we need to setup evaluation procedure. "
      ]
    },
    {
      "metadata": {
        "id": "mG5F9vfz26D6",
        "colab_type": "text"
      },
      "cell_type": "markdown",
      "source": [
        "### Evaluation\n",
        "\n",
        "To evaluate the results we will use several classification metrics:\n",
        " - [Accuracy](http://scikit-learn.org/stable/modules/generated/sklearn.metrics.accuracy_score.html)\n",
        " - [F1-score](http://scikit-learn.org/stable/modules/generated/sklearn.metrics.f1_score.html)\n",
        " - [Area under ROC-curve](http://scikit-learn.org/stable/modules/generated/sklearn.metrics.roc_auc_score.html)\n",
        " - [Area under precision-recall curve](http://scikit-learn.org/stable/modules/generated/sklearn.metrics.average_precision_score.html#sklearn.metrics.average_precision_score) \n",
        " \n",
        "Make sure you are familiar with all of them. How would you expect the things work for the multi-label scenario? Read about micro/macro/weighted averaging following the sklearn links provided above."
      ]
    },
    {
      "metadata": {
        "id": "zxfyelLT26D6",
        "colab_type": "code",
        "colab": {},
        "collapsed": true
      },
      "cell_type": "code",
      "source": [
        "from sklearn.metrics import accuracy_score\n",
        "from sklearn.metrics import f1_score\n",
        "from sklearn.metrics import roc_auc_score \n",
        "from sklearn.metrics import average_precision_score\n",
        "from sklearn.metrics import recall_score"
      ],
      "execution_count": 0,
      "outputs": []
    },
    {
      "metadata": {
        "id": "sinXsHOs26D-",
        "colab_type": "text"
      },
      "cell_type": "markdown",
      "source": [
        "Implement the function *print_evaluation_scores* which calculates and prints to stdout:\n",
        " - *accuracy*\n",
        " - *F1-score macro/micro/weighted*\n",
        " - *Precision macro/micro/weighted*"
      ]
    },
    {
      "metadata": {
        "id": "5Pz8TWv826D_",
        "colab_type": "code",
        "colab": {},
        "collapsed": true
      },
      "cell_type": "code",
      "source": [
        "def print_evaluation_scores(y_val, predicted):\n",
        "    \n",
        "    ######################################\n",
        "    ######### YOUR CODE HERE #############\n",
        "    ######################################"
      ],
      "execution_count": 0,
      "outputs": []
    },
    {
      "metadata": {
        "id": "wqyV56fK26EB",
        "colab_type": "code",
        "colab": {},
        "collapsed": true
      },
      "cell_type": "code",
      "source": [
        "print('Bag-of-words')\n",
        "print_evaluation_scores(y_val, y_val_predicted_labels_mybag)\n",
        "print('Tfidf')\n",
        "print_evaluation_scores(y_val, y_val_predicted_labels_tfidf)"
      ],
      "execution_count": 0,
      "outputs": []
    },
    {
      "metadata": {
        "id": "whn8E2-926EE",
        "colab_type": "text"
      },
      "cell_type": "markdown",
      "source": [
        "You might also want to plot some generalization of the [ROC curve](http://scikit-learn.org/stable/modules/model_evaluation.html#receiver-operating-characteristic-roc) for the case of multi-label classification. Provided function *roc_auc* can make it for you. The input parameters of this function are:\n",
        " - true labels\n",
        " - decision functions scores\n",
        " - number of classes"
      ]
    },
    {
      "metadata": {
        "id": "jX5UgC-826EE",
        "colab_type": "code",
        "colab": {},
        "collapsed": true
      },
      "cell_type": "code",
      "source": [
        "from metrics import roc_auc\n",
        "%matplotlib inline"
      ],
      "execution_count": 0,
      "outputs": []
    },
    {
      "metadata": {
        "id": "Murg6N-526EI",
        "colab_type": "code",
        "colab": {},
        "collapsed": true
      },
      "cell_type": "code",
      "source": [
        "n_classes = len(tags_counts)\n",
        "roc_auc(y_val, y_val_predicted_scores_mybag, n_classes)"
      ],
      "execution_count": 0,
      "outputs": []
    },
    {
      "metadata": {
        "id": "WJNJ1HD226EL",
        "colab_type": "code",
        "colab": {},
        "collapsed": true
      },
      "cell_type": "code",
      "source": [
        "n_classes = len(tags_counts)\n",
        "roc_auc(y_val, y_val_predicted_scores_tfidf, n_classes)"
      ],
      "execution_count": 0,
      "outputs": []
    },
    {
      "metadata": {
        "id": "7sI_QxSt26EM",
        "colab_type": "text"
      },
      "cell_type": "markdown",
      "source": [
        "**Task 4 (MultilabelClassification).** Once we have the evaluation set up, we suggest that you experiment a bit with training your classifiers. We will use *F1-score weighted* as an evaluation metric. Our recommendation:\n",
        "- compare the quality of the bag-of-words and TF-IDF approaches and chose one of them.\n",
        "- for the chosen one, try *L1* and *L2*-regularization techniques in Logistic Regression with different coefficients (e.g. C equal to 0.1, 1, 10, 100).\n",
        "\n",
        "You also could try other improvements of the preprocessing / model, if you want. "
      ]
    },
    {
      "metadata": {
        "id": "xidlSzUH26EN",
        "colab_type": "code",
        "colab": {},
        "collapsed": true
      },
      "cell_type": "code",
      "source": [
        "######################################\n",
        "######### YOUR CODE HERE #############\n",
        "######################################"
      ],
      "execution_count": 0,
      "outputs": []
    },
    {
      "metadata": {
        "id": "DkmWWwJV26EP",
        "colab_type": "text"
      },
      "cell_type": "markdown",
      "source": [
        "When you are happy with the quality, create predictions for *test* set, which you will submit to Coursera."
      ]
    },
    {
      "metadata": {
        "id": "x0cBOqZF26EQ",
        "colab_type": "code",
        "colab": {},
        "collapsed": true
      },
      "cell_type": "code",
      "source": [
        "test_predictions = ######### YOUR CODE HERE #############\n",
        "test_pred_inversed = mlb.inverse_transform(test_predictions)\n",
        "\n",
        "test_predictions_for_submission = '\\n'.join('%i\\t%s' % (i, ','.join(row)) for i, row in enumerate(test_pred_inversed))\n",
        "grader.submit_tag('MultilabelClassification', test_predictions_for_submission)"
      ],
      "execution_count": 0,
      "outputs": []
    },
    {
      "metadata": {
        "id": "6J6YFoW826ES",
        "colab_type": "text"
      },
      "cell_type": "markdown",
      "source": [
        "### Analysis of the most important features"
      ]
    },
    {
      "metadata": {
        "id": "M9CF6Fj826ET",
        "colab_type": "text"
      },
      "cell_type": "markdown",
      "source": [
        "Finally, it is usually a good idea to look at the features (words or n-grams) that are used with the largest weigths in your logistic regression model."
      ]
    },
    {
      "metadata": {
        "id": "8i18JKXo26ET",
        "colab_type": "text"
      },
      "cell_type": "markdown",
      "source": [
        "Implement the function *print_words_for_tag* to find them. Get back to sklearn documentation on [OneVsRestClassifier](http://scikit-learn.org/stable/modules/generated/sklearn.multiclass.OneVsRestClassifier.html) and [LogisticRegression](http://scikit-learn.org/stable/modules/generated/sklearn.linear_model.LogisticRegression.html) if needed."
      ]
    },
    {
      "metadata": {
        "id": "L9X2Tbdr26EU",
        "colab_type": "code",
        "colab": {},
        "collapsed": true
      },
      "cell_type": "code",
      "source": [
        "def print_words_for_tag(classifier, tag, tags_classes, index_to_words, all_words):\n",
        "    \"\"\"\n",
        "        classifier: trained classifier\n",
        "        tag: particular tag\n",
        "        tags_classes: a list of classes names from MultiLabelBinarizer\n",
        "        index_to_words: index_to_words transformation\n",
        "        all_words: all words in the dictionary\n",
        "        \n",
        "        return nothing, just print top 5 positive and top 5 negative words for current tag\n",
        "    \"\"\"\n",
        "    print('Tag:\\t{}'.format(tag))\n",
        "    \n",
        "    # Extract an estimator from the classifier for the given tag.\n",
        "    # Extract feature coefficients from the estimator. \n",
        "    \n",
        "    ######################################\n",
        "    ######### YOUR CODE HERE #############\n",
        "    ######################################\n",
        "    \n",
        "    top_positive_words = # top-5 words sorted by the coefficiens.\n",
        "    top_negative_words = # bottom-5 words  sorted by the coefficients.\n",
        "    print('Top positive words:\\t{}'.format(', '.join(top_positive_words)))\n",
        "    print('Top negative words:\\t{}\\n'.format(', '.join(top_negative_words)))"
      ],
      "execution_count": 0,
      "outputs": []
    },
    {
      "metadata": {
        "id": "KsUABHFn26EZ",
        "colab_type": "code",
        "colab": {},
        "collapsed": true
      },
      "cell_type": "code",
      "source": [
        "print_words_for_tag(classifier_tfidf, 'c', mlb.classes, tfidf_reversed_vocab, ALL_WORDS)\n",
        "print_words_for_tag(classifier_tfidf, 'c++', mlb.classes, tfidf_reversed_vocab, ALL_WORDS)\n",
        "print_words_for_tag(classifier_tfidf, 'linux', mlb.classes, tfidf_reversed_vocab, ALL_WORDS)"
      ],
      "execution_count": 0,
      "outputs": []
    },
    {
      "metadata": {
        "id": "bJTUPKbi26Ee",
        "colab_type": "text"
      },
      "cell_type": "markdown",
      "source": [
        "### Authorization & Submission\n",
        "To submit assignment parts to Cousera platform, please, enter your e-mail and token into variables below. You can generate token on this programming assignment page. <b>Note:</b> Token expires 30 minutes after generation."
      ]
    },
    {
      "metadata": {
        "id": "GzAo313e26Ef",
        "colab_type": "code",
        "colab": {},
        "collapsed": true
      },
      "cell_type": "code",
      "source": [
        "grader.status()"
      ],
      "execution_count": 0,
      "outputs": []
    },
    {
      "metadata": {
        "id": "ZNA7clDO26Eg",
        "colab_type": "code",
        "colab": {},
        "collapsed": true
      },
      "cell_type": "code",
      "source": [
        "STUDENT_EMAIL = # EMAIL \n",
        "STUDENT_TOKEN = # TOKEN \n",
        "grader.status()"
      ],
      "execution_count": 0,
      "outputs": []
    },
    {
      "metadata": {
        "id": "p_NChcK826Ei",
        "colab_type": "text"
      },
      "cell_type": "markdown",
      "source": [
        "If you want to submit these answers, run cell below"
      ]
    },
    {
      "metadata": {
        "id": "l8GUbtBz26Ek",
        "colab_type": "code",
        "colab": {},
        "collapsed": true
      },
      "cell_type": "code",
      "source": [
        "grader.submit(STUDENT_EMAIL, STUDENT_TOKEN)"
      ],
      "execution_count": 0,
      "outputs": []
    }
  ]
}